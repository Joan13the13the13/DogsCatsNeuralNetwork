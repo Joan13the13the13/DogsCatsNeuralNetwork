{
 "cells": [
  {
   "cell_type": "markdown",
   "id": "b3c02295-2601-46d4-9416-6f6c3036a5b6",
   "metadata": {},
   "source": [
    "## Main"
   ]
  },
  {
   "cell_type": "markdown",
   "id": "c8db901d-6b04-4e86-a8b0-0f34cb388afb",
   "metadata": {},
   "source": [
    "In this script, our main goal is to test all models developed in models folder."
   ]
  },
  {
   "cell_type": "code",
   "execution_count": 7,
   "id": "16b33a5b-865a-4f8a-9893-497ca7755237",
   "metadata": {},
   "outputs": [],
   "source": [
    "import torchvision.transforms as transforms\n",
    "from utils.Dataset import Dataset  \n",
    "from models.classifiers import BinaryAlexNet,MultiAlexNet\n",
    "from utils.ModelTrainer import ModelTrainer\n",
    "import torch\n",
    "import torch.nn as nn\n",
    "import torch.optim as optim\n",
    "from torch.optim import lr_scheduler\n",
    "import torch.nn.functional as F\n",
    "import numpy as np\n",
    "import torchvision\n",
    "from torchvision import datasets, models, transforms\n",
    "from tqdm import tqdm\n",
    "import matplotlib.pyplot as plt\n"
   ]
  },
  {
   "cell_type": "code",
   "execution_count": 8,
   "id": "023ffe9a-46b7-44ea-ae56-2ede6f2adb44",
   "metadata": {},
   "outputs": [
    {
     "name": "stderr",
     "output_type": "stream",
     "text": [
      "Extracting and transforming values from train data:  14%|██████                                     | 827/5920 [00:02<00:17, 297.72it/s]Corrupt JPEG data: premature end of data segment\n",
      "Extracting and transforming values from train data:  52%|█████████████████████▋                    | 3062/5920 [00:10<00:12, 225.27it/s]Corrupt JPEG data: 245 extraneous bytes before marker 0xd9\n",
      "Extracting and transforming values from train data: 100%|██████████████████████████████████████████| 5920/5920 [00:20<00:00, 293.79it/s]\n",
      "Extracting and transforming values from test data: 100%|███████████████████████████████████████████| 1470/1470 [00:04<00:00, 296.43it/s]"
     ]
    },
    {
     "name": "stdout",
     "output_type": "stream",
     "text": [
      "Data loaded succesfully!\n"
     ]
    },
    {
     "name": "stderr",
     "output_type": "stream",
     "text": [
      "\n"
     ]
    }
   ],
   "source": [
    "oxford=Dataset('species',227)"
   ]
  },
  {
   "cell_type": "code",
   "execution_count": 9,
   "id": "0583f11b-a594-42ce-b360-9729bad6e38b",
   "metadata": {},
   "outputs": [],
   "source": [
    "train_loader = torch.utils.data.DataLoader(oxford.train, 64)\n",
    "test_loader = torch.utils.data.DataLoader(oxford.test, 100)"
   ]
  },
  {
   "cell_type": "code",
   "execution_count": 10,
   "id": "dd954c5b-5dff-4cdf-b80b-78896955e3d4",
   "metadata": {},
   "outputs": [
    {
     "data": {
      "text/plain": [
       "[tensor([[[[0.8084, 0.8018, 0.8115,  ..., 0.0561, 0.0590, 0.0672],\n",
       "           [0.8117, 0.8055, 0.8089,  ..., 0.0518, 0.0416, 0.0414],\n",
       "           [0.8138, 0.8093, 0.8100,  ..., 0.0428, 0.0422, 0.0526],\n",
       "           ...,\n",
       "           [0.5465, 0.5515, 0.5588,  ..., 0.5945, 0.5998, 0.6006],\n",
       "           [0.5562, 0.5624, 0.5608,  ..., 0.5849, 0.5713, 0.5795],\n",
       "           [0.5495, 0.5537, 0.5553,  ..., 0.5897, 0.5871, 0.5826]],\n",
       " \n",
       "          [[0.7277, 0.7291, 0.7350,  ..., 0.1263, 0.1116, 0.1084],\n",
       "           [0.7298, 0.7316, 0.7354,  ..., 0.1316, 0.1098, 0.1058],\n",
       "           [0.7369, 0.7351, 0.7344,  ..., 0.0927, 0.1005, 0.1125],\n",
       "           ...,\n",
       "           [0.5269, 0.5325, 0.5392,  ..., 0.5600, 0.5654, 0.5572],\n",
       "           [0.5366, 0.5432, 0.5412,  ..., 0.5259, 0.5188, 0.5174],\n",
       "           [0.5314, 0.5356, 0.5371,  ..., 0.5448, 0.5516, 0.5456]],\n",
       " \n",
       "          [[0.5836, 0.5845, 0.5869,  ..., 0.1376, 0.1110, 0.1091],\n",
       "           [0.5886, 0.5907, 0.5883,  ..., 0.1471, 0.1169, 0.1230],\n",
       "           [0.5860, 0.5890, 0.5886,  ..., 0.0879, 0.0987, 0.1361],\n",
       "           ...,\n",
       "           [0.5255, 0.5342, 0.5431,  ..., 0.5503, 0.5640, 0.5617],\n",
       "           [0.5389, 0.5459, 0.5451,  ..., 0.5101, 0.5060, 0.5001],\n",
       "           [0.5324, 0.5366, 0.5381,  ..., 0.5465, 0.5548, 0.5448]]],\n",
       " \n",
       " \n",
       "         [[[0.1782, 0.2359, 0.2566,  ..., 0.8358, 0.8322, 0.8270],\n",
       "           [0.1554, 0.1937, 0.1994,  ..., 0.8373, 0.8342, 0.8285],\n",
       "           [0.1957, 0.1990, 0.1536,  ..., 0.8376, 0.8353, 0.8280],\n",
       "           ...,\n",
       "           [0.2865, 0.3003, 0.3018,  ..., 0.3871, 0.3633, 0.3716],\n",
       "           [0.3247, 0.3222, 0.2843,  ..., 0.3811, 0.3673, 0.3703],\n",
       "           [0.2997, 0.3144, 0.3228,  ..., 0.3595, 0.3442, 0.3538]],\n",
       " \n",
       "          [[0.1143, 0.1556, 0.1728,  ..., 0.8528, 0.8447, 0.8394],\n",
       "           [0.1011, 0.1217, 0.1365,  ..., 0.8543, 0.8477, 0.8421],\n",
       "           [0.1234, 0.1239, 0.1047,  ..., 0.8547, 0.8484, 0.8426],\n",
       "           ...,\n",
       "           [0.3614, 0.3720, 0.3740,  ..., 0.4229, 0.4069, 0.4091],\n",
       "           [0.3900, 0.3849, 0.3709,  ..., 0.4168, 0.4101, 0.4073],\n",
       "           [0.3630, 0.3555, 0.3691,  ..., 0.3952, 0.3844, 0.3891]],\n",
       " \n",
       "          [[0.0901, 0.1245, 0.1278,  ..., 0.8451, 0.8387, 0.8296],\n",
       "           [0.0713, 0.0888, 0.0953,  ..., 0.8465, 0.8397, 0.8287],\n",
       "           [0.0953, 0.0927, 0.0734,  ..., 0.8468, 0.8397, 0.8258],\n",
       "           ...,\n",
       "           [0.3771, 0.3972, 0.3982,  ..., 0.4345, 0.4159, 0.4202],\n",
       "           [0.4142, 0.4120, 0.3990,  ..., 0.4284, 0.4193, 0.4185],\n",
       "           [0.3891, 0.3775, 0.3886,  ..., 0.4068, 0.3946, 0.4009]]],\n",
       " \n",
       " \n",
       "         [[[0.7049, 0.7078, 0.7102,  ..., 0.6249, 0.6239, 0.6263],\n",
       "           [0.7082, 0.7103, 0.7212,  ..., 0.6289, 0.6258, 0.6246],\n",
       "           [0.7103, 0.7164, 0.7014,  ..., 0.6338, 0.6296, 0.6290],\n",
       "           ...,\n",
       "           [0.3389, 0.3367, 0.3228,  ..., 0.6957, 0.6945, 0.6588],\n",
       "           [0.3260, 0.3155, 0.3028,  ..., 0.7028, 0.6552, 0.7084],\n",
       "           [0.3008, 0.3033, 0.2961,  ..., 0.6499, 0.6489, 0.6909]],\n",
       " \n",
       "          [[0.5028, 0.4995, 0.4988,  ..., 0.4359, 0.4336, 0.4268],\n",
       "           [0.5011, 0.4990, 0.4975,  ..., 0.4349, 0.4349, 0.4314],\n",
       "           [0.4943, 0.4968, 0.4887,  ..., 0.4310, 0.4305, 0.4314],\n",
       "           ...,\n",
       "           [0.2203, 0.2198, 0.2155,  ..., 0.5390, 0.5505, 0.5202],\n",
       "           [0.2196, 0.2128, 0.2106,  ..., 0.5598, 0.5217, 0.5427],\n",
       "           [0.2031, 0.2116, 0.2106,  ..., 0.5236, 0.5278, 0.5338]],\n",
       " \n",
       "          [[0.3007, 0.2971, 0.2992,  ..., 0.2320, 0.2335, 0.2395],\n",
       "           [0.3052, 0.3089, 0.3003,  ..., 0.2319, 0.2349, 0.2394],\n",
       "           [0.3014, 0.2988, 0.2924,  ..., 0.2316, 0.2335, 0.2387],\n",
       "           ...,\n",
       "           [0.1257, 0.1336, 0.1336,  ..., 0.4548, 0.4727, 0.4374],\n",
       "           [0.1216, 0.1262, 0.1310,  ..., 0.4786, 0.4627, 0.4746],\n",
       "           [0.1159, 0.1222, 0.1303,  ..., 0.4480, 0.4536, 0.4495]]],\n",
       " \n",
       " \n",
       "         ...,\n",
       " \n",
       " \n",
       "         [[[0.0031, 0.0018, 0.0063,  ..., 0.8131, 0.8107, 0.8086],\n",
       "           [0.0026, 0.0032, 0.0020,  ..., 0.7873, 0.7872, 0.7864],\n",
       "           [0.0016, 0.0035, 0.0031,  ..., 0.7350, 0.7340, 0.7316],\n",
       "           ...,\n",
       "           [0.0996, 0.1117, 0.1285,  ..., 0.3830, 0.2611, 0.0715],\n",
       "           [0.1087, 0.1305, 0.1385,  ..., 0.3222, 0.1805, 0.0770],\n",
       "           [0.1218, 0.1390, 0.1420,  ..., 0.3207, 0.1981, 0.1175]],\n",
       " \n",
       "          [[0.0525, 0.0724, 0.0977,  ..., 0.9032, 0.9009, 0.8988],\n",
       "           [0.0357, 0.0614, 0.0908,  ..., 0.8865, 0.8864, 0.8857],\n",
       "           [0.0268, 0.0463, 0.0721,  ..., 0.8507, 0.8496, 0.8472],\n",
       "           ...,\n",
       "           [0.1770, 0.1862, 0.2053,  ..., 0.4693, 0.3383, 0.1217],\n",
       "           [0.1866, 0.2056, 0.2155,  ..., 0.4102, 0.2634, 0.1500],\n",
       "           [0.1968, 0.2135, 0.2183,  ..., 0.4009, 0.2745, 0.1903]],\n",
       " \n",
       "          [[0.1379, 0.1618, 0.1949,  ..., 0.9346, 0.9323, 0.9302],\n",
       "           [0.1263, 0.1544, 0.1866,  ..., 0.9154, 0.9153, 0.9146],\n",
       "           [0.1081, 0.1351, 0.1645,  ..., 0.8759, 0.8749, 0.8725],\n",
       "           ...,\n",
       "           [0.2210, 0.2400, 0.2567,  ..., 0.5348, 0.3930, 0.1576],\n",
       "           [0.2303, 0.2570, 0.2707,  ..., 0.4718, 0.3123, 0.1863],\n",
       "           [0.2468, 0.2686, 0.2778,  ..., 0.4571, 0.3226, 0.2320]]],\n",
       " \n",
       " \n",
       "         [[[0.1649, 0.3199, 0.3333,  ..., 0.3310, 0.3340, 0.2033],\n",
       "           [0.4110, 0.8547, 0.8927,  ..., 0.8948, 0.8957, 0.5446],\n",
       "           [0.4485, 0.9479, 0.9828,  ..., 0.9979, 0.9914, 0.5972],\n",
       "           ...,\n",
       "           [0.4426, 0.9444, 0.9949,  ..., 0.9962, 0.9888, 0.5928],\n",
       "           [0.4486, 0.9421, 0.9863,  ..., 0.9875, 0.9820, 0.5907],\n",
       "           [0.2162, 0.4558, 0.4731,  ..., 0.4734, 0.4722, 0.2872]],\n",
       " \n",
       "          [[0.1649, 0.3199, 0.3333,  ..., 0.3310, 0.3340, 0.2033],\n",
       "           [0.4110, 0.8547, 0.8927,  ..., 0.8948, 0.8957, 0.5446],\n",
       "           [0.4485, 0.9479, 0.9828,  ..., 0.9979, 0.9914, 0.5972],\n",
       "           ...,\n",
       "           [0.4426, 0.9444, 0.9949,  ..., 0.9962, 0.9888, 0.5928],\n",
       "           [0.4486, 0.9421, 0.9863,  ..., 0.9875, 0.9820, 0.5907],\n",
       "           [0.2162, 0.4558, 0.4731,  ..., 0.4734, 0.4722, 0.2872]],\n",
       " \n",
       "          [[0.1649, 0.3199, 0.3333,  ..., 0.3310, 0.3340, 0.2033],\n",
       "           [0.4110, 0.8547, 0.8927,  ..., 0.8948, 0.8957, 0.5446],\n",
       "           [0.4485, 0.9479, 0.9828,  ..., 0.9979, 0.9914, 0.5972],\n",
       "           ...,\n",
       "           [0.4426, 0.9444, 0.9949,  ..., 0.9962, 0.9888, 0.5928],\n",
       "           [0.4486, 0.9421, 0.9863,  ..., 0.9875, 0.9820, 0.5907],\n",
       "           [0.2162, 0.4558, 0.4731,  ..., 0.4734, 0.4722, 0.2872]]],\n",
       " \n",
       " \n",
       "         [[[0.7746, 0.7685, 0.7725,  ..., 0.6571, 0.7381, 0.7435],\n",
       "           [0.7754, 0.7732, 0.7733,  ..., 0.6195, 0.6306, 0.6963],\n",
       "           [0.7750, 0.7709, 0.7683,  ..., 0.6893, 0.6251, 0.6019],\n",
       "           ...,\n",
       "           [0.4490, 0.4370, 0.4085,  ..., 0.7532, 0.7290, 0.7691],\n",
       "           [0.3912, 0.3648, 0.3944,  ..., 0.7568, 0.7264, 0.7496],\n",
       "           [0.3390, 0.3767, 0.4319,  ..., 0.7896, 0.7980, 0.7632]],\n",
       " \n",
       "          [[0.8217, 0.8156, 0.8196,  ..., 0.6806, 0.7528, 0.7568],\n",
       "           [0.8224, 0.8202, 0.8204,  ..., 0.6576, 0.6693, 0.7330],\n",
       "           [0.8221, 0.8180, 0.8154,  ..., 0.7288, 0.6683, 0.6461],\n",
       "           ...,\n",
       "           [0.4858, 0.4748, 0.4434,  ..., 0.7323, 0.7136, 0.7534],\n",
       "           [0.4086, 0.3955, 0.4306,  ..., 0.7280, 0.6952, 0.7200],\n",
       "           [0.3591, 0.4113, 0.4764,  ..., 0.7639, 0.7625, 0.7273]],\n",
       " \n",
       "          [[0.8217, 0.8156, 0.8196,  ..., 0.6726, 0.7076, 0.6884],\n",
       "           [0.8224, 0.8202, 0.8204,  ..., 0.6717, 0.6486, 0.6892],\n",
       "           [0.8221, 0.8180, 0.8154,  ..., 0.7608, 0.6833, 0.6480],\n",
       "           ...,\n",
       "           [0.5100, 0.5016, 0.4704,  ..., 0.7298, 0.7097, 0.7520],\n",
       "           [0.4389, 0.4193, 0.4489,  ..., 0.7369, 0.7021, 0.7199],\n",
       "           [0.3777, 0.4261, 0.4895,  ..., 0.7658, 0.7666, 0.7218]]]]),\n",
       " tensor([0, 0, 1, 1, 0, 0, 0, 0, 0, 1, 0, 0, 0, 0, 1, 1, 0, 1, 0, 0, 0, 0, 0, 0,\n",
       "         0, 0, 0, 1, 0, 0, 1, 0, 0, 1, 1, 1, 0, 0, 0, 0, 1, 0, 1, 0, 0, 0, 0, 0,\n",
       "         0, 0, 1, 0, 1, 0, 1, 0, 0, 0, 1, 1, 1, 0, 0, 1, 0, 0, 0, 0, 0, 0, 0, 0,\n",
       "         1, 1, 0, 0, 0, 1, 1, 0, 0, 0, 0, 0, 0, 1, 0, 0, 1, 0, 0, 0, 0, 0, 0, 1,\n",
       "         0, 0, 0, 0])]"
      ]
     },
     "execution_count": 10,
     "metadata": {},
     "output_type": "execute_result"
    }
   ],
   "source": [
    "iterador =  iter(test_loader) # Un iterador!!\n",
    "next(iterador)"
   ]
  },
  {
   "cell_type": "code",
   "execution_count": 25,
   "id": "40992de4-e0d0-4902-82e3-a74dfdf28ea6",
   "metadata": {},
   "outputs": [
    {
     "name": "stdout",
     "output_type": "stream",
     "text": [
      "Trainable Parameters:  54011394\n"
     ]
    },
    {
     "name": "stderr",
     "output_type": "stream",
     "text": [
      " 25%|█████████████████████████▎                                                                           | 1/4 [01:02<03:06, 62.16s/it]"
     ]
    },
    {
     "name": "stdout",
     "output_type": "stream",
     "text": [
      "\n",
      "Test set: Average loss: 0.0045, Accuracy: 1284/1470 (87.35%)\n",
      "\n"
     ]
    },
    {
     "name": "stderr",
     "output_type": "stream",
     "text": [
      " 50%|██████████████████████████████████████████████████▌                                                  | 2/4 [02:04<02:04, 62.20s/it]"
     ]
    },
    {
     "name": "stdout",
     "output_type": "stream",
     "text": [
      "\n",
      "Test set: Average loss: 0.0042, Accuracy: 1315/1470 (89.46%)\n",
      "\n"
     ]
    },
    {
     "name": "stderr",
     "output_type": "stream",
     "text": [
      " 75%|███████████████████████████████████████████████████████████████████████████▊                         | 3/4 [03:08<01:03, 63.06s/it]"
     ]
    },
    {
     "name": "stdout",
     "output_type": "stream",
     "text": [
      "\n",
      "Test set: Average loss: 0.0041, Accuracy: 1328/1470 (90.34%)\n",
      "\n"
     ]
    },
    {
     "name": "stderr",
     "output_type": "stream",
     "text": [
      "100%|█████████████████████████████████████████████████████████████████████████████████████████████████████| 4/4 [04:16<00:00, 64.12s/it]"
     ]
    },
    {
     "name": "stdout",
     "output_type": "stream",
     "text": [
      "\n",
      "Test set: Average loss: 0.0041, Accuracy: 1336/1470 (90.88%)\n",
      "\n"
     ]
    },
    {
     "name": "stderr",
     "output_type": "stream",
     "text": [
      "\n"
     ]
    },
    {
     "data": {
      "image/png": "[encoded data removed]",
      "text/plain": [
       "<Figure size 1000x500 with 1 Axes>"
      ]
     },
     "metadata": {},
     "output_type": "display_data"
    }
   ],
   "source": [
    "use_cuda = False\n",
    "torch.manual_seed(33)\n",
    "\n",
    "if use_cuda:\n",
    "    device = torch.device(\"cuda\")\n",
    "else:\n",
    "    device = torch.device(\"cpu\")\n",
    "    \n",
    "lr = 1e-1\n",
    "\n",
    "model = BinaryAlexNet().to(device)\n",
    "optimizer = optim.SGD(model.parameters(), lr=lr)\n",
    "\n",
    "trainer = ModelTrainer(train_loader,test_loader,optimizer,F.cross_entropy,4)\n",
    "\n",
    "train_loss, test_loss = trainer.train_test(model, device)\n",
    "\n",
    "# Guardem els pesos del model\n",
    "path_to_save = 'model_weights_Binary_Alex_Net.pth'\n",
    "torch.save(model.state_dict(), path_to_save)\n",
    "\n",
    "# Creant el gràfic de pèrdua\n",
    "plt.figure(figsize=(10, 5))\n",
    "plt.plot(train_loss, label='Pèrdua d\\'Entrenament')\n",
    "plt.plot(test_loss, label='Pèrdua de Prova')\n",
    "plt.title('Funció de Pèrdua Durant l\\'Entrenament i la Prova')\n",
    "plt.xlabel('Èpoques')\n",
    "plt.ylabel('Pèrdua')\n",
    "plt.legend()\n",
    "plt.show()"
   ]
  },
  {
   "cell_type": "code",
   "execution_count": 21,
   "id": "454046c3-da3e-44b3-93e6-53e47f8827b3",
   "metadata": {},
   "outputs": [],
   "source": [
    "class AdroBalaNet(nn.Module):\n",
    "    def __init__(self):\n",
    "        super(AdroBalaNet, self).__init__()\n",
    "        \n",
    "        # Adjust the last convolutional layer to produce a compatible output size\n",
    "        self.cnn = nn.Sequential(\n",
    "            nn.Conv2d(3, 8, kernel_size=(5, 5), stride=(1, 1), padding=(2, 2)),\n",
    "            nn.ReLU(),\n",
    "            nn.MaxPool2d(kernel_size=3, stride=2, padding=0),\n",
    "            nn.Conv2d(8, 16, kernel_size=(3, 3), stride=(1, 1)),\n",
    "            nn.MaxPool2d(kernel_size=3, stride=2, padding=0),\n",
    "            nn.Flatten()  # Flatten before passing to linear layers\n",
    "        )\n",
    "        \n",
    "        # Define the additional layers for your specific task\n",
    "        self.classifier = nn.Sequential(\n",
    "            nn.Linear(in_features=55 * 55 * 16, out_features=512),  # Adjust the input size\n",
    "            nn.ReLU(),\n",
    "            nn.Dropout(p=0.5),\n",
    "            nn.Linear(in_features=512, out_features=2, bias=True),\n",
    "            nn.Softmax(dim=1)\n",
    "        )\n",
    "\n",
    "\n",
    "    def forward(self, x):\n",
    "        x = self.cnn(x)\n",
    "        x = self.classifier(x)\n",
    "        return x\n"
   ]
  },
  {
   "cell_type": "code",
   "execution_count": null,
   "id": "7d714c30-caaf-4bad-a44e-9b93569a783b",
   "metadata": {},
   "outputs": [],
   "source": [
    "import os\n",
    "for filename in os.listdir('data/train/'):\n",
    "    if not filename.endswith('.jpg'):\n",
    "        print(filename)\n"
   ]
  }
 ],
 "metadata": {
  "kernelspec": {
   "display_name": "Python 3 (ipykernel)",
   "language": "python",
   "name": "python3"
  },
  "language_info": {
   "codemirror_mode": {
    "name": "ipython",
    "version": 3
   },
   "file_extension": ".py",
   "mimetype": "text/x-python",
   "name": "python",
   "nbconvert_exporter": "python",
   "pygments_lexer": "ipython3",
   "version": "3.10.13"
  }
 },
 "nbformat": 4,
 "nbformat_minor": 5
}
