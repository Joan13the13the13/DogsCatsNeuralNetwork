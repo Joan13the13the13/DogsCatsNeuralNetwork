{
 "cells": [
  {
   "cell_type": "markdown",
   "id": "7be44da1-0b77-4162-bf0c-6f326dc09cf2",
   "metadata": {},
   "source": [
    "## BinaryAlexNetTraining"
   ]
  },
  {
   "cell_type": "code",
   "execution_count": 10,
   "id": "b6deb0ef-b328-4cb9-90a7-5fc322f45a00",
   "metadata": {},
   "outputs": [],
   "source": [
    "import torchvision.transforms as transforms\n",
    "from utils.Dataset import Dataset  \n",
    "from models.classifiers import BinaryAlexNet,MultiAlexNet,BinaryAdroBalaNet\n",
    "from utils.ModelTrainer import ModelTrainer\n",
    "import torch\n",
    "import torch.nn as nn\n",
    "import torch.optim as optim\n",
    "from torch.optim import lr_scheduler\n",
    "import torch.nn.functional as F\n",
    "import numpy as np\n",
    "import torchvision\n",
    "from torchvision import datasets, models, transforms\n",
    "from tqdm import tqdm\n",
    "import matplotlib.pyplot as plt"
   ]
  },
  {
   "cell_type": "markdown",
   "id": "2f1c0df3-3c38-4808-a0b9-d484a1fd4ef0",
   "metadata": {},
   "source": [
    "En aquest fitxer, realitzarem l'entrenament per al classificador binari pre entrenat AlexNet. El primer que realitzarem es l'importació de les imatges que tractarà el model:"
   ]
  },
  {
   "cell_type": "code",
   "execution_count": 11,
   "id": "936590cb-37da-424f-bfe5-17e5b4f9b97e",
   "metadata": {},
   "outputs": [
    {
     "name": "stderr",
     "output_type": "stream",
     "text": [
      "Extracting and transforming values from train data:  14%|█████▉                                     | 826/5920 [00:04<00:26, 194.03it/s]Corrupt JPEG data: premature end of data segment\n",
      "Extracting and transforming values from train data:  52%|█████████████████████▊                    | 3067/5920 [00:16<00:13, 212.57it/s]Corrupt JPEG data: 245 extraneous bytes before marker 0xd9\n",
      "Extracting and transforming values from train data: 100%|██████████████████████████████████████████| 5920/5920 [00:31<00:00, 190.68it/s]\n",
      "Extracting and transforming values from test data: 100%|███████████████████████████████████████████| 1470/1470 [00:07<00:00, 207.88it/s]"
     ]
    },
    {
     "name": "stdout",
     "output_type": "stream",
     "text": [
      "Data loaded succesfully!\n"
     ]
    },
    {
     "name": "stderr",
     "output_type": "stream",
     "text": [
      "\n"
     ]
    }
   ],
   "source": [
    "oxford=Dataset('species',227)"
   ]
  },
  {
   "cell_type": "markdown",
   "id": "bba28c18-2e7f-49d2-b858-2b8cee9c25d5",
   "metadata": {},
   "source": [
    "Guardem dins dues variables les fotos corresponents al conjunt d'entrenament i de test:"
   ]
  },
  {
   "cell_type": "code",
   "execution_count": 12,
   "id": "f37c7219-5ef6-4c40-a7d3-e5c5ea9e86b1",
   "metadata": {},
   "outputs": [],
   "source": [
    "train_loader = torch.utils.data.DataLoader(oxford.train, 64, shuffle = True)\n",
    "test_loader = torch.utils.data.DataLoader(oxford.test, 100, shuffle = True)"
   ]
  },
  {
   "cell_type": "markdown",
   "id": "1a12c1a5-547f-4203-80de-5e3ca08a4187",
   "metadata": {},
   "source": [
    "Generam l'iterador amb el qual podrem iterar sobre totes les imatges"
   ]
  },
  {
   "cell_type": "code",
   "execution_count": 13,
   "id": "d2698a97-b084-4f8e-9e7b-28a36eef0e27",
   "metadata": {},
   "outputs": [
    {
     "data": {
      "text/plain": [
       "[tensor([[[[-1.2431, -1.2486, -1.2303,  ..., -1.0809, -1.1071, -1.1288],\n",
       "           [-1.2281, -1.2338, -1.2328,  ..., -1.0903, -1.1224, -1.1393],\n",
       "           [-1.2171, -1.2326, -1.2308,  ..., -1.1084, -1.1269, -1.1325],\n",
       "           ...,\n",
       "           [-0.4022, -0.3370, -0.3195,  ...,  0.6116,  0.6214,  0.5616],\n",
       "           [-0.4621, -0.3899, -0.2867,  ...,  0.5272,  0.5849,  0.5866],\n",
       "           [-0.4920, -0.4236, -0.3406,  ...,  0.5019,  0.5479,  0.5547]],\n",
       " \n",
       "          [[-1.0188, -1.0245, -1.0157,  ..., -0.8916, -0.8901, -0.9303],\n",
       "           [-1.0213, -1.0111, -1.0120,  ..., -0.8922, -0.9011, -0.9410],\n",
       "           [-1.0206, -1.0110, -1.0063,  ..., -0.8937, -0.9030, -0.9341],\n",
       "           ...,\n",
       "           [-0.0763, -0.0050,  0.0126,  ...,  0.8716,  0.8669,  0.8246],\n",
       "           [-0.1515, -0.0590,  0.0444,  ...,  0.8134,  0.8441,  0.8698],\n",
       "           [-0.1834, -0.0935, -0.0108,  ...,  0.6899,  0.7792,  0.8269]],\n",
       " \n",
       "          [[-0.7398, -0.7454, -0.7366,  ..., -0.6032, -0.6116, -0.6517],\n",
       "           [-0.7422, -0.7321, -0.7330,  ..., -0.6091, -0.6226, -0.6623],\n",
       "           [-0.7415, -0.7320, -0.7273,  ..., -0.6142, -0.6245, -0.6554],\n",
       "           ...,\n",
       "           [ 0.3600,  0.4190,  0.4287,  ...,  1.0847,  1.0884,  1.0487],\n",
       "           [ 0.2867,  0.3518,  0.4656,  ...,  1.0771,  1.1330,  1.1432],\n",
       "           [ 0.2555,  0.3164,  0.4116,  ...,  0.9185,  1.0587,  1.0874]]],\n",
       " \n",
       " \n",
       "         [[[-0.8947, -0.9117, -0.8963,  ..., -0.6251, -0.6112, -0.5964],\n",
       "           [-0.8725, -0.8937, -0.9049,  ..., -0.5913, -0.5843, -0.5984],\n",
       "           [-0.8809, -0.9062, -0.9293,  ..., -0.5643, -0.6335, -0.6828],\n",
       "           ...,\n",
       "           [-0.3064, -0.2058, -0.3035,  ...,  0.0730,  0.0563,  0.0502],\n",
       "           [-0.1507, -0.3654, -0.4308,  ...,  0.0767,  0.0666,  0.0611],\n",
       "           [-0.0899, -0.1481, -0.3389,  ...,  0.0657,  0.0933,  0.1010]],\n",
       " \n",
       "          [[-0.3665, -0.3955, -0.3969,  ...,  0.2110,  0.2639,  0.2900],\n",
       "           [-0.3529, -0.3856, -0.4090,  ...,  0.2454,  0.2884,  0.2843],\n",
       "           [-0.3719, -0.4084, -0.4392,  ...,  0.2725,  0.2274,  0.1844],\n",
       "           ...,\n",
       "           [-0.3939, -0.2910, -0.3909,  ..., -0.1461, -0.1631, -0.1693],\n",
       "           [-0.2346, -0.4542, -0.5211,  ..., -0.1423, -0.1526, -0.1582],\n",
       "           [-0.1725, -0.2321, -0.4271,  ..., -0.1536, -0.1253, -0.1174]],\n",
       " \n",
       "          [[ 0.3831,  0.3775,  0.4226,  ...,  1.2835,  1.3114,  1.3301],\n",
       "           [ 0.4147,  0.4086,  0.4260,  ...,  1.3181,  1.3418,  1.3319],\n",
       "           [ 0.4201,  0.4185,  0.4177,  ...,  1.3462,  1.3054,  1.2633],\n",
       "           ...,\n",
       "           [-0.2048, -0.1023, -0.2018,  ..., -0.0103, -0.0273, -0.0335],\n",
       "           [-0.0462, -0.2648, -0.3314,  ..., -0.0065, -0.0168, -0.0224],\n",
       "           [ 0.0156, -0.0437, -0.2378,  ..., -0.0178,  0.0103,  0.0182]]],\n",
       " \n",
       " \n",
       "         [[[-1.8431, -1.9017, -1.8791,  ..., -2.0672, -2.0764, -2.0689],\n",
       "           [-1.8988, -1.8499, -1.8102,  ..., -2.0546, -2.0629, -2.0701],\n",
       "           [-1.9252, -1.9042, -1.8589,  ..., -2.0227, -2.0417, -2.0466],\n",
       "           ...,\n",
       "           [-1.3920, -1.3354, -1.2265,  ..., -1.8825, -1.8509, -1.8501],\n",
       "           [-1.3564, -1.2990, -1.2483,  ..., -1.8993, -1.8804, -1.8464],\n",
       "           [-1.2900, -1.2508, -1.2485,  ..., -1.8468, -1.8410, -1.8365]],\n",
       " \n",
       "          [[-1.6053, -1.6575, -1.6183,  ..., -1.9455, -1.9550, -1.9446],\n",
       "           [-1.6558, -1.5737, -1.5038,  ..., -1.9301, -1.9385, -1.9347],\n",
       "           [-1.6511, -1.6050, -1.5290,  ..., -1.8670, -1.8865, -1.8812],\n",
       "           ...,\n",
       "           [-1.2613, -1.2186, -1.1435,  ..., -1.3578, -1.3271, -1.3277],\n",
       "           [-1.2158, -1.1682, -1.1336,  ..., -1.3871, -1.3979, -1.3882],\n",
       "           [-1.1827, -1.1357, -1.1256,  ..., -1.3655, -1.3808, -1.3837]],\n",
       " \n",
       "          [[-1.3479, -1.3795, -1.3336,  ..., -1.5536, -1.5630, -1.5580],\n",
       "           [-1.4246, -1.3170, -1.2305,  ..., -1.5286, -1.5370, -1.5555],\n",
       "           [-1.3914, -1.3421, -1.2640,  ..., -1.4755, -1.4949, -1.5100],\n",
       "           ...,\n",
       "           [-1.0304, -1.0121, -0.9541,  ..., -0.8503, -0.8199, -0.8201],\n",
       "           [-0.9812, -0.9635, -0.9475,  ..., -0.8812, -0.8875, -0.8700],\n",
       "           [-0.9552, -0.9306, -0.9332,  ..., -0.8724, -0.8864, -0.8872]]],\n",
       " \n",
       " \n",
       "         ...,\n",
       " \n",
       " \n",
       "         [[[-0.5470, -0.5463, -0.5113,  ...,  0.6695, -0.3881, -0.0456],\n",
       "           [-0.6811, -0.6816, -0.4325,  ...,  0.4700,  0.3724,  0.1186],\n",
       "           [-0.7369, -0.6592, -0.4168,  ...,  0.9415,  0.7809,  0.2964],\n",
       "           ...,\n",
       "           [ 1.3038, -0.0504, -0.3480,  ..., -0.8962, -0.7511, -1.3120],\n",
       "           [ 1.1678,  0.2606, -0.4132,  ..., -1.1360, -1.8472, -2.0374],\n",
       "           [ 0.8121,  0.3360, -0.5047,  ..., -1.9799, -2.0372, -2.0526]],\n",
       " \n",
       "          [[ 0.5955,  0.4830,  0.2054,  ...,  0.7173,  0.1482,  0.3646],\n",
       "           [ 0.4714,  0.3075,  0.2549,  ...,  0.6090,  0.6657,  0.3719],\n",
       "           [ 0.3178,  0.0433,  0.1386,  ...,  1.2745,  1.0004,  0.5681],\n",
       "           ...,\n",
       "           [ 1.7866,  0.9910,  0.7636,  ...,  0.0098, -0.1998, -0.7345],\n",
       "           [ 1.3899,  0.8642,  0.5689,  ..., -0.6561, -1.3279, -1.2980],\n",
       "           [ 1.0667,  0.8142,  0.3551,  ..., -1.3262, -1.3073, -1.2844]],\n",
       " \n",
       "          [[ 0.2973,  0.2301,  0.0209,  ...,  0.7231,  0.0910,  0.4801],\n",
       "           [ 0.2498, -0.0837,  0.0317,  ...,  0.7341,  0.6277,  0.3458],\n",
       "           [ 0.1556, -0.1145,  0.0224,  ...,  1.2837,  0.9185,  0.6086],\n",
       "           ...,\n",
       "           [ 1.7329,  0.5930,  0.4027,  ..., -0.4195, -0.6222, -0.9682],\n",
       "           [ 1.7106,  0.6619,  0.1179,  ..., -0.9283, -1.4949, -1.5983],\n",
       "           [ 1.4674,  0.8454,  0.1263,  ..., -1.2790, -1.5434, -1.5235]]],\n",
       " \n",
       " \n",
       "         [[[ 2.1319,  2.1155,  2.1360,  ..., -1.1416, -1.1254, -1.0911],\n",
       "           [ 2.1563,  2.1369,  2.1245,  ..., -1.2964, -1.3650, -1.3855],\n",
       "           [ 2.1816,  2.1318,  2.0507,  ..., -1.5573, -1.4190, -1.3879],\n",
       "           ...,\n",
       "           [-1.3053, -1.3901, -1.0730,  ...,  0.1076,  0.0235,  0.0164],\n",
       "           [-1.2678, -1.2999, -1.0927,  ...,  0.2535,  0.1910,  0.1095],\n",
       "           [-1.0918, -1.0763, -1.0370,  ...,  0.2126,  0.2774,  0.1947]],\n",
       " \n",
       "          [[ 2.3756,  2.4078,  2.3617,  ..., -0.4197, -0.3785, -0.3196],\n",
       "           [ 2.3983,  2.4149,  2.3635,  ..., -0.6051, -0.6127, -0.6063],\n",
       "           [ 2.4178,  2.3893,  2.3192,  ..., -0.8576, -0.8819, -0.8973],\n",
       "           ...,\n",
       "           [-1.2497, -1.3699, -1.2821,  ..., -0.3370, -0.3827, -0.4406],\n",
       "           [-1.1421, -1.2010, -1.2428,  ..., -0.1547, -0.1822, -0.2366],\n",
       "           [-0.9590, -0.9103, -1.0657,  ..., -0.1014, -0.0880, -0.0955]],\n",
       " \n",
       "          [[ 2.5530,  2.5920,  2.6008,  ...,  0.7192,  0.6966,  0.7359],\n",
       "           [ 2.5791,  2.6065,  2.5897,  ...,  0.4974,  0.4307,  0.4182],\n",
       "           [ 2.6081,  2.5833,  2.5349,  ...,  0.2205,  0.2083,  0.1964],\n",
       "           ...,\n",
       "           [ 1.1628,  1.0461,  1.0827,  ...,  1.0272,  0.9762,  0.9333],\n",
       "           [ 1.0861,  1.0400,  1.0734,  ...,  1.1975,  1.0653,  0.9884],\n",
       "           [ 1.0553,  1.1101,  1.1296,  ...,  1.2349,  1.1486,  1.1103]]],\n",
       " \n",
       " \n",
       "         [[[-0.9321, -0.9027, -0.9277,  ..., -0.7993, -0.8115, -0.8164],\n",
       "           [-0.9146, -0.9325, -0.9089,  ..., -0.7981, -0.8115, -0.8164],\n",
       "           [-0.8991, -0.9299, -0.8930,  ..., -0.7957, -0.8115, -0.8164],\n",
       "           ...,\n",
       "           [-0.3325, -0.3455, -0.3796,  ..., -0.2634, -0.1252, -0.0563],\n",
       "           [-0.4006, -0.4188, -0.4277,  ..., -0.2869, -0.1958, -0.1663],\n",
       "           [-0.4272, -0.5262, -0.5184,  ..., -0.3759, -0.2807, -0.2439]],\n",
       " \n",
       "          [[-1.6288, -1.5987, -1.6243,  ..., -1.5455, -1.5580, -1.5630],\n",
       "           [-1.6109, -1.6291, -1.6051,  ..., -1.5443, -1.5580, -1.5630],\n",
       "           [-1.5950, -1.6265, -1.5888,  ..., -1.5419, -1.5580, -1.5630],\n",
       "           ...,\n",
       "           [-1.2403, -1.2536, -1.2885,  ..., -1.2563, -1.1286, -1.0676],\n",
       "           [-1.2898, -1.3084, -1.3175,  ..., -1.2597, -1.1941, -1.1613],\n",
       "           [-1.2945, -1.3957, -1.3878,  ..., -1.3421, -1.2553, -1.2388]],\n",
       " \n",
       "          [[-1.6980, -1.6804, -1.7086,  ..., -1.6999, -1.7123, -1.7173],\n",
       "           [-1.6891, -1.7134, -1.6894,  ..., -1.6987, -1.7123, -1.7173],\n",
       "           [-1.6794, -1.7108, -1.6733,  ..., -1.6962, -1.7123, -1.7173],\n",
       "           ...,\n",
       "           [-1.5608, -1.5741, -1.6088,  ..., -1.5682, -1.4695, -1.4324],\n",
       "           [-1.5786, -1.5972, -1.6062,  ..., -1.5538, -1.5068, -1.4903],\n",
       "           [-1.5720, -1.6727, -1.6648,  ..., -1.6185, -1.5528, -1.5446]]]]),\n",
       " tensor([0, 0, 0, 0, 0, 1, 1, 0, 0, 1, 0, 1, 0, 0, 1, 0, 0, 0, 0, 0, 0, 0, 1, 0,\n",
       "         0, 1, 1, 0, 0, 0, 0, 0, 0, 1, 0, 1, 1, 0, 0, 0, 0, 1, 0, 1, 1, 1, 0, 0,\n",
       "         0, 0, 0, 0, 1, 1, 0, 0, 1, 0, 0, 0, 0, 0, 0, 1, 0, 0, 0, 1, 0, 0, 1, 1,\n",
       "         0, 1, 0, 0, 0, 0, 0, 1, 0, 0, 0, 0, 1, 0, 0, 0, 0, 1, 0, 0, 1, 1, 1, 0,\n",
       "         0, 0, 0, 1])]"
      ]
     },
     "execution_count": 13,
     "metadata": {},
     "output_type": "execute_result"
    }
   ],
   "source": [
    "iterador =  iter(test_loader)\n",
    "next(iterador)"
   ]
  },
  {
   "cell_type": "markdown",
   "id": "615b7d65-76be-4aff-bfd7-c22b8f45422a",
   "metadata": {},
   "source": [
    "Una vegada esta tot preparat, realitzam l'entrenament corresponent al model:"
   ]
  },
  {
   "cell_type": "code",
   "execution_count": 14,
   "id": "124d0020-64aa-4748-909c-73e5181fc791",
   "metadata": {},
   "outputs": [
    {
     "name": "stdout",
     "output_type": "stream",
     "text": [
      "Trainable Parameters:  54011394\n"
     ]
    },
    {
     "name": "stderr",
     "output_type": "stream",
     "text": [
      " 10%|██████████                                                                                          | 1/10 [01:12<10:56, 72.94s/it]"
     ]
    },
    {
     "name": "stdout",
     "output_type": "stream",
     "text": [
      "\n",
      "Test set: Average loss: 0.0038, Accuracy: 1373/1470 (93.40%)\n",
      "\n"
     ]
    },
    {
     "name": "stderr",
     "output_type": "stream",
     "text": [
      " 20%|████████████████████                                                                                | 2/10 [02:38<10:44, 80.54s/it]"
     ]
    },
    {
     "name": "stdout",
     "output_type": "stream",
     "text": [
      "\n",
      "Test set: Average loss: 0.0037, Accuracy: 1392/1470 (94.69%)\n",
      "\n"
     ]
    },
    {
     "name": "stderr",
     "output_type": "stream",
     "text": [
      " 30%|██████████████████████████████                                                                      | 3/10 [04:12<10:06, 86.58s/it]"
     ]
    },
    {
     "name": "stdout",
     "output_type": "stream",
     "text": [
      "\n",
      "Test set: Average loss: 0.0040, Accuracy: 1352/1470 (91.97%)\n",
      "\n"
     ]
    },
    {
     "name": "stderr",
     "output_type": "stream",
     "text": [
      " 40%|████████████████████████████████████████                                                            | 4/10 [05:33<08:26, 84.47s/it]"
     ]
    },
    {
     "name": "stdout",
     "output_type": "stream",
     "text": [
      "\n",
      "Test set: Average loss: 0.0037, Accuracy: 1394/1470 (94.83%)\n",
      "\n"
     ]
    },
    {
     "name": "stderr",
     "output_type": "stream",
     "text": [
      " 50%|██████████████████████████████████████████████████                                                  | 5/10 [06:56<06:58, 83.73s/it]"
     ]
    },
    {
     "name": "stdout",
     "output_type": "stream",
     "text": [
      "\n",
      "Test set: Average loss: 0.0042, Accuracy: 1318/1470 (89.66%)\n",
      "\n"
     ]
    },
    {
     "name": "stderr",
     "output_type": "stream",
     "text": [
      " 60%|████████████████████████████████████████████████████████████                                        | 6/10 [08:15<05:29, 82.31s/it]"
     ]
    },
    {
     "name": "stdout",
     "output_type": "stream",
     "text": [
      "\n",
      "Test set: Average loss: 0.0038, Accuracy: 1381/1470 (93.95%)\n",
      "\n"
     ]
    },
    {
     "name": "stderr",
     "output_type": "stream",
     "text": [
      " 70%|██████████████████████████████████████████████████████████████████████                              | 7/10 [09:39<04:08, 82.84s/it]"
     ]
    },
    {
     "name": "stdout",
     "output_type": "stream",
     "text": [
      "\n",
      "Test set: Average loss: 0.0038, Accuracy: 1387/1470 (94.35%)\n",
      "\n"
     ]
    },
    {
     "name": "stderr",
     "output_type": "stream",
     "text": [
      " 80%|████████████████████████████████████████████████████████████████████████████████                    | 8/10 [11:02<02:45, 82.81s/it]"
     ]
    },
    {
     "name": "stdout",
     "output_type": "stream",
     "text": [
      "\n",
      "Test set: Average loss: 0.0040, Accuracy: 1355/1470 (92.18%)\n",
      "\n"
     ]
    },
    {
     "name": "stderr",
     "output_type": "stream",
     "text": [
      " 90%|██████████████████████████████████████████████████████████████████████████████████████████          | 9/10 [12:29<01:24, 84.02s/it]"
     ]
    },
    {
     "name": "stdout",
     "output_type": "stream",
     "text": [
      "\n",
      "Test set: Average loss: 0.0037, Accuracy: 1396/1470 (94.97%)\n",
      "\n"
     ]
    },
    {
     "name": "stderr",
     "output_type": "stream",
     "text": [
      "100%|███████████████████████████████████████████████████████████████████████████████████████████████████| 10/10 [14:10<00:00, 85.09s/it]"
     ]
    },
    {
     "name": "stdout",
     "output_type": "stream",
     "text": [
      "\n",
      "Test set: Average loss: 0.0038, Accuracy: 1377/1470 (93.67%)\n",
      "\n"
     ]
    },
    {
     "name": "stderr",
     "output_type": "stream",
     "text": [
      "\n"
     ]
    }
   ],
   "source": [
    "# Entrenament Binary AlexNet\n",
    "use_cuda = False\n",
    "torch.manual_seed(33)\n",
    "\n",
    "if use_cuda:\n",
    "    device = torch.device(\"cuda\")\n",
    "else:\n",
    "    device = torch.device(\"cpu\")\n",
    "    \n",
    "lr = 1e-1\n",
    "\n",
    "model = BinaryAlexNet().to(device)\n",
    "optimizer = optim.SGD(model.parameters(), lr=lr)\n",
    "\n",
    "trainer = ModelTrainer(train_loader,test_loader,optimizer,F.cross_entropy,10)\n",
    "\n",
    "best_model, train_loss, test_loss = trainer.train_test(model, device)"
   ]
  },
  {
   "cell_type": "markdown",
   "id": "a503d8df-01fb-4bf2-8f04-dea664fb92a1",
   "metadata": {},
   "source": [
    "Una vegada finalitzat l'entrenament, generam el fitxer de pesos del model:"
   ]
  },
  {
   "cell_type": "code",
   "execution_count": 15,
   "id": "35d1c72d-dcc5-45d0-aea5-7f8b38b84f16",
   "metadata": {},
   "outputs": [],
   "source": [
    "# Guardem els pesos del model\n",
    "path_to_save = 'weights/model_weights_Binary_Alex_Net.pth'\n",
    "torch.save(best_model.state_dict(), path_to_save)"
   ]
  },
  {
   "cell_type": "markdown",
   "id": "0e1f9932-05e8-4bb1-82e1-827ffedb0b7c",
   "metadata": {},
   "source": [
    "Finalment, mostrem la gràfica de pèrdua que ha tingut el model durant l'entrenament:"
   ]
  },
  {
   "cell_type": "code",
   "execution_count": 16,
   "id": "cef932e2-4397-442d-84a5-d6bf97a31fcc",
   "metadata": {},
   "outputs": [
    {
     "data": {
      "image/png": "[encoded data removed]",
      "text/plain": [
       "<Figure size 1000x500 with 1 Axes>"
      ]
     },
     "metadata": {},
     "output_type": "display_data"
    }
   ],
   "source": [
    "# Creant el gràfic de pèrdua\n",
    "plt.figure(figsize=(10, 5))\n",
    "plt.plot(train_loss, label='Pèrdua d\\'Entrenament')\n",
    "plt.plot(test_loss, label='Pèrdua de Prova')\n",
    "plt.title('Funció de Pèrdua Durant l\\'Entrenament i la Prova')\n",
    "plt.xlabel('Èpoques')\n",
    "plt.ylabel('Pèrdua')\n",
    "plt.legend()\n",
    "plt.show()"
   ]
  },
  {
   "cell_type": "markdown",
   "id": "13a8ffe7-f2f2-480c-ae95-8bea3455420c",
   "metadata": {},
   "source": [
    "Una vegada entrenat el model i mostrada la funció de pèrdua, anem a comprovar que realment hem emmagatzemat els pesos del millor model que hem entrenat:"
   ]
  },
  {
   "cell_type": "code",
   "execution_count": 17,
   "id": "1d467c78-6d36-4b41-b75a-49128ef8e318",
   "metadata": {},
   "outputs": [
    {
     "name": "stdout",
     "output_type": "stream",
     "text": [
      "\n",
      "Test set: Average loss: 0.0037, Accuracy: 1396/1470 (94.97%)\n",
      "\n"
     ]
    }
   ],
   "source": [
    "ruta_modelo = 'weights/model_weights_Binary_Alex_Net.pth'\n",
    "model = BinaryAlexNet()\n",
    "model.load_state_dict(torch.load(ruta_modelo))\n",
    "model.eval()\n",
    "\n",
    "test_loss = 0\n",
    "correct = 0\n",
    "with torch.no_grad():\n",
    "    for data, target in test_loader:\n",
    "        data, target = data.to(device), target.to(device)\n",
    "        output = best_model(data)\n",
    "        output = torch.squeeze(output)\n",
    "        test_loss += F.cross_entropy(output, target, reduction='mean') \n",
    "        pred = output.argmax(dim=1, keepdim=True)  # get the index of the max probability\n",
    "        correct += pred.eq(target.view_as(pred)).sum().item()\n",
    "\n",
    "test_loss /= len(test_loader.dataset)\n",
    "\n",
    "accuracy = 100. * correct / len(test_loader.dataset)\n",
    "\n",
    "print('\\nTest set: Average loss: {:.4f}, Accuracy: {}/{} ({:.2f}%)\\n'.format(\n",
    "    test_loss, correct, len(test_loader.dataset), accuracy))"
   ]
  }
 ],
 "metadata": {
  "kernelspec": {
   "display_name": "Python 3 (ipykernel)",
   "language": "python",
   "name": "python3"
  },
  "language_info": {
   "codemirror_mode": {
    "name": "ipython",
    "version": 3
   },
   "file_extension": ".py",
   "mimetype": "text/x-python",
   "name": "python",
   "nbconvert_exporter": "python",
   "pygments_lexer": "ipython3",
   "version": "3.10.13"
  }
 },
 "nbformat": 4,
 "nbformat_minor": 5
}
