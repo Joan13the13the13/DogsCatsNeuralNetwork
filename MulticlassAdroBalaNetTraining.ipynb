{
 "cells": [
  {
   "cell_type": "markdown",
   "id": "7be44da1-0b77-4162-bf0c-6f326dc09cf2",
   "metadata": {},
   "source": [
    "## BinaryAdroBalaNetTraining"
   ]
  },
  {
   "cell_type": "code",
   "execution_count": 28,
   "id": "b6deb0ef-b328-4cb9-90a7-5fc322f45a00",
   "metadata": {},
   "outputs": [],
   "source": [
    "import torchvision.transforms as transforms\n",
    "from utils.Dataset import Dataset  \n",
    "from models.classifiers import BinaryAlexNet,MultiAlexNet,BinaryAdroBalaNet\n",
    "from utils.ModelTrainer import ModelTrainer\n",
    "import torch\n",
    "import torch.nn as nn\n",
    "import torch.optim as optim\n",
    "from torch.optim import lr_scheduler\n",
    "import torch.nn.functional as F\n",
    "import numpy as np\n",
    "import torchvision\n",
    "from torchvision import datasets, models, transforms\n",
    "from tqdm import tqdm\n",
    "import matplotlib.pyplot as plt"
   ]
  },
  {
   "cell_type": "markdown",
   "id": "2f1c0df3-3c38-4808-a0b9-d484a1fd4ef0",
   "metadata": {},
   "source": [
    "En aquest fitxer, realitzarem l'entrenament per al classificador binari pre entrenat AlexNet. El primer que realitzarem es l'importació de les imatges que tractarà el model:"
   ]
  },
  {
   "cell_type": "code",
   "execution_count": 29,
   "id": "936590cb-37da-424f-bfe5-17e5b4f9b97e",
   "metadata": {},
   "outputs": [
    {
     "name": "stderr",
     "output_type": "stream",
     "text": [
      "Extracting and transforming values from train data:  13%|█████▊                                     | 799/5920 [00:03<00:21, 243.72it/s]Corrupt JPEG data: premature end of data segment\n",
      "Extracting and transforming values from train data:  52%|█████████████████████▊                    | 3074/5920 [00:14<00:17, 161.29it/s]Corrupt JPEG data: 245 extraneous bytes before marker 0xd9\n",
      "Extracting and transforming values from train data: 100%|██████████████████████████████████████████| 5920/5920 [00:30<00:00, 192.00it/s]\n",
      "Extracting and transforming values from test data: 100%|███████████████████████████████████████████| 1470/1470 [00:08<00:00, 180.59it/s]"
     ]
    },
    {
     "name": "stdout",
     "output_type": "stream",
     "text": [
      "Data loaded succesfully!\n"
     ]
    },
    {
     "name": "stderr",
     "output_type": "stream",
     "text": [
      "\n"
     ]
    }
   ],
   "source": [
    "oxford=Dataset('species',227)"
   ]
  },
  {
   "cell_type": "markdown",
   "id": "bba28c18-2e7f-49d2-b858-2b8cee9c25d5",
   "metadata": {},
   "source": [
    "Guardem dins dues variables les fotos corresponents al conjunt d'entrenament i de test:"
   ]
  },
  {
   "cell_type": "code",
   "execution_count": 30,
   "id": "f37c7219-5ef6-4c40-a7d3-e5c5ea9e86b1",
   "metadata": {},
   "outputs": [],
   "source": [
    "train_loader = torch.utils.data.DataLoader(oxford.train, 64,shuffle= True)\n",
    "test_loader = torch.utils.data.DataLoader(oxford.test, 100, shuffle= True)"
   ]
  },
  {
   "cell_type": "markdown",
   "id": "1a12c1a5-547f-4203-80de-5e3ca08a4187",
   "metadata": {},
   "source": [
    "Generam l'iterador amb el qual podrem iterar sobre totes les imatges"
   ]
  },
  {
   "cell_type": "code",
   "execution_count": 31,
   "id": "d2698a97-b084-4f8e-9e7b-28a36eef0e27",
   "metadata": {},
   "outputs": [
    {
     "data": {
      "text/plain": [
       "[tensor([[[[0.7662, 0.7698, 0.7555,  ..., 0.9969, 0.9935, 0.9825],\n",
       "           [0.7645, 0.7608, 0.7561,  ..., 0.9832, 0.9940, 0.9876],\n",
       "           [0.7641, 0.7663, 0.7615,  ..., 0.9725, 0.9954, 0.9925],\n",
       "           ...,\n",
       "           [0.3848, 0.3855, 0.3767,  ..., 0.4640, 0.4626, 0.4565],\n",
       "           [0.3902, 0.3871, 0.3734,  ..., 0.4564, 0.4612, 0.4641],\n",
       "           [0.3789, 0.3803, 0.3783,  ..., 0.4521, 0.4580, 0.4646]],\n",
       " \n",
       "          [[0.8041, 0.8009, 0.7973,  ..., 0.9922, 0.9953, 0.9970],\n",
       "           [0.8094, 0.8017, 0.8021,  ..., 0.9844, 0.9947, 0.9972],\n",
       "           [0.8052, 0.8054, 0.8077,  ..., 0.9821, 0.9938, 0.9945],\n",
       "           ...,\n",
       "           [0.4647, 0.4705, 0.4674,  ..., 0.5774, 0.5750, 0.5771],\n",
       "           [0.4628, 0.4641, 0.4671,  ..., 0.5790, 0.5785, 0.5797],\n",
       "           [0.4586, 0.4633, 0.4739,  ..., 0.5794, 0.5773, 0.5783]],\n",
       " \n",
       "          [[0.7234, 0.7193, 0.7142,  ..., 0.9903, 0.9945, 0.9920],\n",
       "           [0.7309, 0.7229, 0.7230,  ..., 0.9784, 0.9941, 0.9964],\n",
       "           [0.7269, 0.7271, 0.7290,  ..., 0.9838, 0.9973, 0.9964],\n",
       "           ...,\n",
       "           [0.5073, 0.4988, 0.5073,  ..., 0.6373, 0.6461, 0.6500],\n",
       "           [0.5015, 0.4949, 0.4969,  ..., 0.6428, 0.6451, 0.6393],\n",
       "           [0.4987, 0.4941, 0.4958,  ..., 0.6427, 0.6413, 0.6349]]],\n",
       " \n",
       " \n",
       "         [[[0.0131, 0.0127, 0.0160,  ..., 0.5032, 0.4753, 0.4498],\n",
       "           [0.0144, 0.0123, 0.0170,  ..., 0.5232, 0.4861, 0.4641],\n",
       "           [0.0125, 0.0095, 0.0152,  ..., 0.4635, 0.5195, 0.4859],\n",
       "           ...,\n",
       "           [0.4537, 0.3446, 0.4298,  ..., 0.5351, 0.5202, 0.5265],\n",
       "           [0.5167, 0.5104, 0.5127,  ..., 0.5298, 0.5338, 0.5052],\n",
       "           [0.5168, 0.5241, 0.4471,  ..., 0.4959, 0.5135, 0.5221]],\n",
       " \n",
       "          [[0.0210, 0.0206, 0.0238,  ..., 0.6345, 0.6069, 0.5867],\n",
       "           [0.0223, 0.0201, 0.0249,  ..., 0.6479, 0.6244, 0.5873],\n",
       "           [0.0203, 0.0173, 0.0231,  ..., 0.5861, 0.6441, 0.6189],\n",
       "           ...,\n",
       "           [0.4716, 0.3729, 0.4594,  ..., 0.5525, 0.5389, 0.5462],\n",
       "           [0.5250, 0.5254, 0.5405,  ..., 0.5493, 0.5501, 0.5228],\n",
       "           [0.5435, 0.5433, 0.4837,  ..., 0.5132, 0.5265, 0.5343]],\n",
       " \n",
       "          [[0.0210, 0.0206, 0.0267,  ..., 0.6925, 0.6705, 0.6533],\n",
       "           [0.0223, 0.0201, 0.0277,  ..., 0.6879, 0.6992, 0.6481],\n",
       "           [0.0203, 0.0173, 0.0259,  ..., 0.6304, 0.6962, 0.6752],\n",
       "           ...,\n",
       "           [0.4430, 0.3709, 0.4564,  ..., 0.5451, 0.5217, 0.5367],\n",
       "           [0.4725, 0.4927, 0.5160,  ..., 0.5247, 0.5312, 0.5143],\n",
       "           [0.5291, 0.5217, 0.4491,  ..., 0.5148, 0.5112, 0.5340]]],\n",
       " \n",
       " \n",
       "         [[[0.7052, 0.7251, 0.7228,  ..., 0.2406, 0.2653, 0.1979],\n",
       "           [0.7072, 0.7124, 0.7082,  ..., 0.2271, 0.2457, 0.1870],\n",
       "           [0.7266, 0.7212, 0.6950,  ..., 0.2007, 0.2323, 0.1802],\n",
       "           ...,\n",
       "           [0.1270, 0.1227, 0.1267,  ..., 0.6181, 0.5991, 0.6028],\n",
       "           [0.1316, 0.1118, 0.1179,  ..., 0.6042, 0.6184, 0.6377],\n",
       "           [0.1129, 0.0905, 0.1285,  ..., 0.6456, 0.6821, 0.7456]],\n",
       " \n",
       "          [[0.8805, 0.8697, 0.8839,  ..., 0.2146, 0.2300, 0.1473],\n",
       "           [0.8788, 0.8759, 0.8739,  ..., 0.2014, 0.2259, 0.1571],\n",
       "           [0.8772, 0.8596, 0.8558,  ..., 0.1868, 0.2147, 0.1818],\n",
       "           ...,\n",
       "           [0.1203, 0.1064, 0.1164,  ..., 0.7358, 0.7229, 0.7100],\n",
       "           [0.1199, 0.1092, 0.1264,  ..., 0.7294, 0.7133, 0.7011],\n",
       "           [0.1117, 0.1142, 0.1136,  ..., 0.7110, 0.7561, 0.8074]],\n",
       " \n",
       "          [[0.9624, 0.9576, 0.9825,  ..., 0.1966, 0.2189, 0.1546],\n",
       "           [0.9633, 0.9527, 0.9607,  ..., 0.1974, 0.1929, 0.1327],\n",
       "           [0.9713, 0.9407, 0.9370,  ..., 0.1985, 0.2042, 0.1467],\n",
       "           ...,\n",
       "           [0.1620, 0.1751, 0.1606,  ..., 0.8557, 0.8303, 0.8387],\n",
       "           [0.1382, 0.1600, 0.1610,  ..., 0.8448, 0.8225, 0.8240],\n",
       "           [0.1508, 0.1604, 0.1634,  ..., 0.8255, 0.8676, 0.9129]]],\n",
       " \n",
       " \n",
       "         ...,\n",
       " \n",
       " \n",
       "         [[[0.7774, 0.7830, 0.7849,  ..., 0.7886, 0.7832, 0.7798],\n",
       "           [0.7782, 0.7816, 0.7874,  ..., 0.7887, 0.7857, 0.7805],\n",
       "           [0.7811, 0.7846, 0.7846,  ..., 0.7885, 0.7891, 0.7833],\n",
       "           ...,\n",
       "           [0.1685, 0.1465, 0.1417,  ..., 0.7620, 0.7609, 0.7639],\n",
       "           [0.1750, 0.1556, 0.1451,  ..., 0.7695, 0.7636, 0.7645],\n",
       "           [0.1939, 0.1666, 0.1491,  ..., 0.7784, 0.7700, 0.7675]],\n",
       " \n",
       "          [[0.7382, 0.7414, 0.7417,  ..., 0.7533, 0.7479, 0.7446],\n",
       "           [0.7389, 0.7398, 0.7445,  ..., 0.7534, 0.7504, 0.7452],\n",
       "           [0.7403, 0.7418, 0.7418,  ..., 0.7532, 0.7538, 0.7480],\n",
       "           ...,\n",
       "           [0.1809, 0.1555, 0.1553,  ..., 0.7307, 0.7321, 0.7300],\n",
       "           [0.1919, 0.1683, 0.1598,  ..., 0.7356, 0.7332, 0.7287],\n",
       "           [0.2136, 0.1821, 0.1650,  ..., 0.7396, 0.7349, 0.7296]],\n",
       " \n",
       "          [[0.6989, 0.7071, 0.7105,  ..., 0.7180, 0.7126, 0.7093],\n",
       "           [0.6998, 0.7057, 0.7130,  ..., 0.7181, 0.7151, 0.7099],\n",
       "           [0.7042, 0.7097, 0.7103,  ..., 0.7179, 0.7186, 0.7127],\n",
       "           ...,\n",
       "           [0.2359, 0.2072, 0.2114,  ..., 0.7030, 0.6985, 0.6968],\n",
       "           [0.2476, 0.2206, 0.2150,  ..., 0.7079, 0.6996, 0.6964],\n",
       "           [0.2598, 0.2267, 0.2108,  ..., 0.7118, 0.7016, 0.6994]]],\n",
       " \n",
       " \n",
       "         [[[0.3600, 0.3724, 0.3757,  ..., 0.1967, 0.2350, 0.2701],\n",
       "           [0.3716, 0.3714, 0.3566,  ..., 0.2095, 0.2564, 0.2895],\n",
       "           [0.3677, 0.3712, 0.3612,  ..., 0.2317, 0.2704, 0.2959],\n",
       "           ...,\n",
       "           [0.1652, 0.1671, 0.1741,  ..., 0.2056, 0.2125, 0.2090],\n",
       "           [0.1678, 0.1690, 0.1777,  ..., 0.2075, 0.2172, 0.2111],\n",
       "           [0.1707, 0.1611, 0.1805,  ..., 0.2112, 0.2087, 0.2091]],\n",
       " \n",
       "          [[0.4103, 0.4213, 0.4242,  ..., 0.2338, 0.2871, 0.3314],\n",
       "           [0.4271, 0.4313, 0.4196,  ..., 0.2597, 0.3141, 0.3544],\n",
       "           [0.4304, 0.4412, 0.4295,  ..., 0.2883, 0.3351, 0.3679],\n",
       "           ...,\n",
       "           [0.1474, 0.1532, 0.1495,  ..., 0.1777, 0.1773, 0.1792],\n",
       "           [0.1481, 0.1538, 0.1566,  ..., 0.1829, 0.1874, 0.1836],\n",
       "           [0.1465, 0.1459, 0.1614,  ..., 0.1825, 0.1783, 0.1792]],\n",
       " \n",
       "          [[0.5633, 0.5937, 0.5981,  ..., 0.2729, 0.3545, 0.4065],\n",
       "           [0.5716, 0.5884, 0.5880,  ..., 0.3037, 0.3865, 0.4379],\n",
       "           [0.5683, 0.5801, 0.5742,  ..., 0.3450, 0.4176, 0.4625],\n",
       "           ...,\n",
       "           [0.1267, 0.1349, 0.1381,  ..., 0.1607, 0.1482, 0.1461],\n",
       "           [0.1209, 0.1324, 0.1407,  ..., 0.1509, 0.1524, 0.1483],\n",
       "           [0.1183, 0.1223, 0.1415,  ..., 0.1532, 0.1469, 0.1489]]],\n",
       " \n",
       " \n",
       "         [[[0.2003, 0.1991, 0.2033,  ..., 0.2375, 0.2315, 0.2265],\n",
       "           [0.2038, 0.2025, 0.2027,  ..., 0.2353, 0.2280, 0.2241],\n",
       "           [0.2063, 0.2027, 0.2031,  ..., 0.2312, 0.2269, 0.2257],\n",
       "           ...,\n",
       "           [0.3929, 0.4078, 0.4118,  ..., 0.6251, 0.6273, 0.6136],\n",
       "           [0.3792, 0.3957, 0.4194,  ..., 0.6057, 0.6189, 0.6193],\n",
       "           [0.3723, 0.3880, 0.4070,  ..., 0.5999, 0.6105, 0.6120]],\n",
       " \n",
       "          [[0.2278, 0.2265, 0.2285,  ..., 0.2563, 0.2566, 0.2476],\n",
       "           [0.2272, 0.2295, 0.2293,  ..., 0.2561, 0.2542, 0.2452],\n",
       "           [0.2274, 0.2295, 0.2306,  ..., 0.2558, 0.2537, 0.2468],\n",
       "           ...,\n",
       "           [0.4389, 0.4549, 0.4588,  ..., 0.6512, 0.6502, 0.6407],\n",
       "           [0.4221, 0.4428, 0.4660,  ..., 0.6382, 0.6451, 0.6508],\n",
       "           [0.4149, 0.4350, 0.4536,  ..., 0.6105, 0.6305, 0.6412]],\n",
       " \n",
       "          [[0.2395, 0.2383, 0.2403,  ..., 0.2703, 0.2684, 0.2594],\n",
       "           [0.2390, 0.2413, 0.2411,  ..., 0.2689, 0.2659, 0.2570],\n",
       "           [0.2392, 0.2413, 0.2424,  ..., 0.2678, 0.2655, 0.2585],\n",
       "           ...,\n",
       "           [0.4870, 0.5003, 0.5025,  ..., 0.6501, 0.6509, 0.6419],\n",
       "           [0.4705, 0.4852, 0.5108,  ..., 0.6483, 0.6609, 0.6632],\n",
       "           [0.4635, 0.4772, 0.4986,  ..., 0.6127, 0.6442, 0.6507]]]]),\n",
       " tensor([1, 0, 0, 1, 1, 1, 1, 0, 0, 0, 1, 0, 0, 0, 0, 1, 1, 0, 1, 1, 0, 1, 1, 1,\n",
       "         0, 1, 0, 0, 0, 1, 1, 0, 0, 1, 1, 0, 0, 1, 1, 0, 0, 0, 0, 1, 0, 0, 0, 0,\n",
       "         0, 0, 0, 1, 0, 1, 0, 0, 0, 1, 0, 0, 1, 1, 0, 0, 0, 1, 0, 1, 0, 0, 0, 1,\n",
       "         0, 0, 1, 0, 0, 1, 0, 1, 0, 0, 0, 1, 1, 0, 1, 0, 0, 0, 0, 1, 0, 0, 1, 0,\n",
       "         0, 0, 1, 0])]"
      ]
     },
     "execution_count": 31,
     "metadata": {},
     "output_type": "execute_result"
    }
   ],
   "source": [
    "iterador =  iter(test_loader)\n",
    "next(iterador)"
   ]
  },
  {
   "cell_type": "markdown",
   "id": "615b7d65-76be-4aff-bfd7-c22b8f45422a",
   "metadata": {},
   "source": [
    "Una vegada esta tot preparat, realitzam l'entrenament corresponent al model:"
   ]
  },
  {
   "cell_type": "code",
   "execution_count": null,
   "id": "124d0020-64aa-4748-909c-73e5181fc791",
   "metadata": {},
   "outputs": [
    {
     "name": "stderr",
     "output_type": "stream",
     "text": [
      "/Users/joanbalaguer/opt/miniconda3/envs/aa2023/lib/python3.10/site-packages/torchvision/models/_utils.py:208: UserWarning: The parameter 'pretrained' is deprecated since 0.13 and may be removed in the future, please use 'weights' instead.\n",
      "  warnings.warn(\n",
      "/Users/joanbalaguer/opt/miniconda3/envs/aa2023/lib/python3.10/site-packages/torchvision/models/_utils.py:223: UserWarning: Arguments other than a weight enum or `None` for 'weights' are deprecated since 0.13 and may be removed in the future. The current behavior is equivalent to passing `weights=None`.\n",
      "  warnings.warn(msg)\n"
     ]
    },
    {
     "name": "stdout",
     "output_type": "stream",
     "text": [
      "Trainable Parameters:  3649730\n"
     ]
    },
    {
     "name": "stderr",
     "output_type": "stream",
     "text": [
      "  0%|                                                                                                            | 0/10 [00:00<?, ?it/s]"
     ]
    }
   ],
   "source": [
    "# Entrenament Binary AdroBalaNet\n",
    "use_cuda = False\n",
    "torch.manual_seed(33)\n",
    "\n",
    "if use_cuda:\n",
    "    device = torch.device(\"cuda\")\n",
    "else:\n",
    "    device = torch.device(\"cpu\")\n",
    "    \n",
    "lr = 1e-1\n",
    "\n",
    "model = BinaryAdroBalaNet().to(device)\n",
    "optimizer = optim.SGD(model.parameters(), lr=lr)\n",
    "\n",
    "trainer = ModelTrainer(train_loader,test_loader,optimizer,F.cross_entropy,10)\n",
    "\n",
    "best_model, train_loss, test_loss = trainer.train_test(model, device)"
   ]
  },
  {
   "cell_type": "markdown",
   "id": "a503d8df-01fb-4bf2-8f04-dea664fb92a1",
   "metadata": {},
   "source": [
    "Una vegada finalitzat l'entrenament, generam el fitxer de pesos del model:"
   ]
  },
  {
   "cell_type": "code",
   "execution_count": null,
   "id": "35d1c72d-dcc5-45d0-aea5-7f8b38b84f16",
   "metadata": {},
   "outputs": [],
   "source": [
    "# Guardem els pesos del model\n",
    "path_to_save = 'pesos/model_weights_Binary_Adro_Bala_Net.pth'\n",
    "torch.save(best_model.state_dict(), path_to_save)"
   ]
  },
  {
   "cell_type": "markdown",
   "id": "0e1f9932-05e8-4bb1-82e1-827ffedb0b7c",
   "metadata": {},
   "source": [
    "Finalment, mostrem la gràfica de pèrdua que ha tingut el model durant l'entrenament:"
   ]
  },
  {
   "cell_type": "code",
   "execution_count": null,
   "id": "cef932e2-4397-442d-84a5-d6bf97a31fcc",
   "metadata": {},
   "outputs": [],
   "source": [
    "# Creant el gràfic de pèrdua\n",
    "plt.figure(figsize=(10, 5))\n",
    "plt.plot(train_loss, label='Pèrdua d\\'Entrenament')\n",
    "plt.plot(test_loss, label='Pèrdua de Prova')\n",
    "plt.title('Funció de Pèrdua Durant l\\'Entrenament i la Prova')\n",
    "plt.xlabel('Èpoques')\n",
    "plt.ylabel('Pèrdua')\n",
    "plt.legend()\n",
    "plt.show()"
   ]
  },
  {
   "cell_type": "markdown",
   "id": "3b8217ff-2875-46c1-8a35-ae7f0690343a",
   "metadata": {},
   "source": [
    "Una vegada entrenat el model i mostrada la funció de pèrdua, anem a comprovar que realment hem emmagatzemat els pesos del millor model que hem entrenat:"
   ]
  },
  {
   "cell_type": "code",
   "execution_count": null,
   "id": "07e20606-474f-4011-b07b-4a31860a57c9",
   "metadata": {},
   "outputs": [],
   "source": [
    "ruta_modelo = 'weights/model_weights_Binary_Adro_Bala_Net.pth'\n",
    "model.load_state_dict(torch.load(ruta_modelo))\n",
    "model.eval()\n",
    "\n",
    "test_loss = 0\n",
    "correct = 0\n",
    "with torch.no_grad():\n",
    "    for data, target in test_loader:\n",
    "        data, target = data.to(device), target.to(device)\n",
    "        output = model(data)\n",
    "        output = torch.squeeze(output)\n",
    "        test_loss += F.cross_entropy(output, target, reduction='mean') \n",
    "        pred = output.argmax(dim=1, keepdim=True)  # get the index of the max probability\n",
    "        correct += pred.eq(target.view_as(pred)).sum().item()\n",
    "\n",
    "test_loss /= len(test_loader.dataset)\n",
    "\n",
    "accuracy = 100. * correct / len(test_loader.dataset)\n",
    "\n",
    "print('\\nTest set: Average loss: {:.4f}, Accuracy: {}/{} ({:.2f}%)\\n'.format(\n",
    "    test_loss, correct, len(test_loader.dataset), accuracy))"
   ]
  }
 ],
 "metadata": {
  "kernelspec": {
   "display_name": "Python 3 (ipykernel)",
   "language": "python",
   "name": "python3"
  },
  "language_info": {
   "codemirror_mode": {
    "name": "ipython",
    "version": 3
   },
   "file_extension": ".py",
   "mimetype": "text/x-python",
   "name": "python",
   "nbconvert_exporter": "python",
   "pygments_lexer": "ipython3",
   "version": "3.10.13"
  }
 },
 "nbformat": 4,
 "nbformat_minor": 5
}
