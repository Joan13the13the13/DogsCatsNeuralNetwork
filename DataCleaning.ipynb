{
 "cells": [
  {
   "cell_type": "markdown",
   "id": "5899b3b7-108a-4989-99fa-675cecb2460e",
   "metadata": {},
   "source": [
    "# Data Cleaning"
   ]
  },
  {
   "cell_type": "markdown",
   "id": "5c57cf2d-5e53-412a-a35b-f505244c1340",
   "metadata": {},
   "source": [
    "In this notebook our goal will is going to be to prepare all data needed for training/testing our models."
   ]
  },
  {
   "cell_type": "code",
   "execution_count": 1,
   "id": "94303855-36d9-46c0-b604-10c6f5594760",
   "metadata": {},
   "outputs": [],
   "source": [
    "import cv2\n",
    "import os\n",
    "from Utils import get_min_dimensions\n",
    "    "
   ]
  },
  {
   "cell_type": "code",
   "execution_count": 2,
   "id": "fab58f99-efad-4272-b343-ba6c2487a9e0",
   "metadata": {},
   "outputs": [
    {
     "name": "stdout",
     "output_type": "stream",
     "text": [
      "Error processing Abyssinian_34.jpg: 'NoneType' object has no attribute 'shape'\n",
      "Error processing Egyptian_Mau_139.jpg: 'NoneType' object has no attribute 'shape'\n",
      "Error processing Egyptian_Mau_145.jpg: 'NoneType' object has no attribute 'shape'\n",
      "Error processing Egyptian_Mau_167.jpg: 'NoneType' object has no attribute 'shape'\n",
      "Error processing Egyptian_Mau_177.jpg: 'NoneType' object has no attribute 'shape'\n",
      "Error processing Egyptian_Mau_191.jpg: 'NoneType' object has no attribute 'shape'\n",
      "Minimum Width: 114px\n",
      "Minimum Height: 103px\n"
     ]
    }
   ],
   "source": [
    "folder_path = \"data\"  # Change this to the path of your image folder\n",
    "min_width, min_height = get_min_dimensions(folder_path)\n",
    "\n",
    "if min_width == float('inf') or min_height == float('inf'):\n",
    "    print(\"No valid images found in the folder.\")\n",
    "else:\n",
    "    print(f\"Minimum Width: {min_width}px\")\n",
    "    print(f\"Minimum Height: {min_height}px\")\n"
   ]
  },
  {
   "cell_type": "markdown",
   "id": "8a2c0f75-ab56-42b0-8e45-e7518e91dd1d",
   "metadata": {},
   "source": [
    "### 1. Reorganize images in folders"
   ]
  },
  {
   "cell_type": "markdown",
   "id": "e170d672-fb39-4db2-b514-a09aa1223290",
   "metadata": {},
   "source": [
    "In this step, we'll group images in folder by breeds to ensure that both train/test have all breeds. If we had skipped this step, we could have stored breeds in test that had not been trained. "
   ]
  },
  {
   "cell_type": "code",
   "execution_count": 18,
   "id": "a0faaa90-7628-4c0c-9d52-44eed5a43511",
   "metadata": {},
   "outputs": [
    {
     "name": "stdout",
     "output_type": "stream",
     "text": [
      "Breed folders created:\n",
      "\n",
      "****************************************************************************************************\n",
      "Abyssinian: data\\Abyssinian\n",
      "american_bulldog: data\\american_bulldog\n",
      "american_pit_bull_terrier: data\\american_pit_bull_terrier\n",
      "basset_hound: data\\basset_hound\n",
      "beagle: data\\beagle\n",
      "Bengal: data\\Bengal\n",
      "Birman: data\\Birman\n",
      "Bombay: data\\Bombay\n",
      "boxer: data\\boxer\n",
      "British_Shorthair: data\\British_Shorthair\n",
      "chihuahua: data\\chihuahua\n",
      "Egyptian_Mau: data\\Egyptian_Mau\n",
      "english_cocker_spaniel: data\\english_cocker_spaniel\n",
      "english_setter: data\\english_setter\n",
      "german_shorthaired: data\\german_shorthaired\n",
      "great_pyrenees: data\\great_pyrenees\n",
      "havanese: data\\havanese\n",
      "japanese_chin: data\\japanese_chin\n",
      "keeshond: data\\keeshond\n",
      "leonberger: data\\leonberger\n",
      "Maine_Coon: data\\Maine_Coon\n",
      "miniature_pinscher: data\\miniature_pinscher\n",
      "newfoundland: data\\newfoundland\n",
      "Persian: data\\Persian\n",
      "pomeranian: data\\pomeranian\n",
      "pug: data\\pug\n",
      "Ragdoll: data\\Ragdoll\n",
      "Russian_Blue: data\\Russian_Blue\n",
      "saint_bernard: data\\saint_bernard\n",
      "samoyed: data\\samoyed\n",
      "scottish_terrier: data\\scottish_terrier\n",
      "shiba_inu: data\\shiba_inu\n",
      "Siamese: data\\Siamese\n",
      "Sphynx: data\\Sphynx\n",
      "staffordshire_bull_terrier: data\\staffordshire_bull_terrier\n",
      "wheaten_terrier: data\\wheaten_terrier\n",
      "yorkshire_terrier: data\\yorkshire_terrier\n"
     ]
    }
   ],
   "source": [
    "import os\n",
    "import re\n",
    "from shutil import copy\n",
    "\n",
    "# Path to your data folder\n",
    "data_folder_path = \"data\"\n",
    "\n",
    "# Create a dictionary to store breeds and corresponding folder paths\n",
    "breed_folders = {}\n",
    "\n",
    "# Regular expression pattern to extract breed name\n",
    "pattern = re.compile(r'(.+)_\\d+\\.jpg')\n",
    "\n",
    "# Iterate through each file in the data folder\n",
    "for filename in os.listdir(data_folder_path):\n",
    "    # Match the pattern to extract the breed name\n",
    "    match = pattern.match(filename)\n",
    "    \n",
    "    if match:\n",
    "        breed_name = match.group(1)\n",
    "        \n",
    "        # Create a folder for the breed if it doesn't exist\n",
    "        if breed_name not in breed_folders:\n",
    "            breed_folder = os.path.join(data_folder_path, breed_name)\n",
    "            os.makedirs(breed_folder, exist_ok=True)\n",
    "            breed_folders[breed_name] = breed_folder\n",
    "        \n",
    "        # Copy the file to the respective breed folder\n",
    "        src_path = os.path.join(data_folder_path, filename)\n",
    "        dest_path = os.path.join(breed_folders[breed_name], filename)\n",
    "        copy(src_path, dest_path)\n",
    "        \n",
    "        # Remove the file from the data folder\n",
    "        os.remove(src_path)\n",
    "\n",
    "# Print the list of breed folders\n",
    "print(\"Breed folders created:\\n\")\n",
    "print(100*'*')\n",
    "for breed_name, folder_path in breed_folders.items():\n",
    "    print(f\"{breed_name}: {folder_path}\")\n",
    "\n",
    "\n",
    "\n"
   ]
  },
  {
   "cell_type": "code",
   "execution_count": 19,
   "id": "ff55c94b-70ab-4424-8508-ed11797f20a2",
   "metadata": {},
   "outputs": [
    {
     "name": "stdout",
     "output_type": "stream",
     "text": [
      "Folder 'train' created successfully at 'data/train'\n",
      "Folder 'test' created successfully at 'data/test'\n",
      "Processing folder: Abyssinian\n",
      "Processing folder: american_bulldog\n",
      "Processing folder: american_pit_bull_terrier\n",
      "Processing folder: basset_hound\n",
      "Processing folder: beagle\n",
      "Processing folder: Bengal\n",
      "Processing folder: Birman\n",
      "Processing folder: Bombay\n",
      "Processing folder: boxer\n",
      "Processing folder: British_Shorthair\n",
      "Processing folder: chihuahua\n",
      "Processing folder: Egyptian_Mau\n",
      "Processing folder: english_cocker_spaniel\n",
      "Processing folder: english_setter\n",
      "Processing folder: german_shorthaired\n",
      "Processing folder: great_pyrenees\n",
      "Processing folder: havanese\n",
      "Processing folder: japanese_chin\n",
      "Processing folder: keeshond\n",
      "Processing folder: leonberger\n",
      "Processing folder: Maine_Coon\n",
      "Processing folder: miniature_pinscher\n",
      "Processing folder: newfoundland\n",
      "Processing folder: Persian\n",
      "Processing folder: pomeranian\n",
      "Processing folder: pug\n",
      "Processing folder: Ragdoll\n",
      "Processing folder: Russian_Blue\n",
      "Processing folder: saint_bernard\n",
      "Processing folder: samoyed\n",
      "Processing folder: scottish_terrier\n",
      "Processing folder: shiba_inu\n",
      "Processing folder: Siamese\n",
      "Processing folder: Sphynx\n",
      "Processing folder: staffordshire_bull_terrier\n",
      "Processing folder: wheaten_terrier\n",
      "Processing folder: yorkshire_terrier\n"
     ]
    }
   ],
   "source": [
    "files_folder=200\n",
    "train_ratio=0.8\n",
    "num_files=train_ratio*files_folder\n",
    "\n",
    "data_folder=\"data/\"\n",
    "train_dest=\"data/train/\"\n",
    "test_dest=\"data/test/\"\n",
    "\n",
    "# Specify the path where you want to create the new folders\n",
    "base_path = data_folder\n",
    "\n",
    "# Create \"train\" folder\n",
    "train_path = os.path.join(base_path, \"train\")\n",
    "os.makedirs(train_path, exist_ok=True)\n",
    "print(f\"Folder 'train' created successfully at '{train_path}'\")\n",
    "\n",
    "# Create \"test\" folder\n",
    "test_path = os.path.join(base_path, \"test\")\n",
    "os.makedirs(test_path, exist_ok=True)\n",
    "print(f\"Folder 'test' created successfully at '{test_path}'\\n\")\n",
    "\n",
    "for folder in os.listdir(data_folder):\n",
    "    folder_path = os.path.join(data_folder, folder)\n",
    "    if os.path.isdir(folder_path) and folder not in (\"train\",\"test\"):\n",
    "        i=0\n",
    "        print(\"Processing folder: \"+str(folder))\n",
    "        for filename in os.listdir(folder_path):\n",
    "            img = os.path.join(folder_path, filename)\n",
    "            if i<num_files:\n",
    "                dest_path=train_dest\n",
    "            else:\n",
    "                dest_path=test_dest\n",
    "            copy(img,dest_path)\n",
    "            os.remove(img)\n",
    "            i=i+1\n",
    "        os.rmdir(folder_path)\n"
   ]
  },
  {
   "cell_type": "markdown",
   "id": "68f6bae1-465f-4ed0-845a-7c64871d14de",
   "metadata": {},
   "source": [
    "Now, we have all images in a 80/20 ratio"
   ]
  },
  {
   "cell_type": "markdown",
   "id": "80968615-009c-41c0-be40-07b1162f1932",
   "metadata": {},
   "source": [
    "## 2. Store labels in a csv"
   ]
  },
  {
   "cell_type": "markdown",
   "id": "bfc1da14-98dd-49f7-8fa9-8fc361f8afd7",
   "metadata": {},
   "source": [
    "Another problem we need to solve is that we have all labels in different "
   ]
  }
 ],
 "metadata": {
  "kernelspec": {
   "display_name": "Python 3 (ipykernel)",
   "language": "python",
   "name": "python3"
  },
  "language_info": {
   "codemirror_mode": {
    "name": "ipython",
    "version": 3
   },
   "file_extension": ".py",
   "mimetype": "text/x-python",
   "name": "python",
   "nbconvert_exporter": "python",
   "pygments_lexer": "ipython3",
   "version": "3.11.5"
  }
 },
 "nbformat": 4,
 "nbformat_minor": 5
}
