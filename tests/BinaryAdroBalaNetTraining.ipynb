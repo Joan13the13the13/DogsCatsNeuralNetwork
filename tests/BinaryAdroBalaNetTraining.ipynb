{
 "cells": [
  {
   "cell_type": "markdown",
   "id": "7be44da1-0b77-4162-bf0c-6f326dc09cf2",
   "metadata": {},
   "source": [
    "## BinaryAdroBalaNetTraining"
   ]
  },
  {
   "cell_type": "code",
   "execution_count": 1,
   "id": "b6deb0ef-b328-4cb9-90a7-5fc322f45a00",
   "metadata": {},
   "outputs": [],
   "source": [
    "import torchvision.transforms as transforms\n",
    "from utils.Dataset import Dataset  \n",
    "from models.classifiers import BinaryAlexNet,MultiAlexNet,BinaryAdroBalaNet\n",
    "from utils.ModelTrainer import ModelTrainer\n",
    "import torch\n",
    "import torch.nn as nn\n",
    "import torch.optim as optim\n",
    "from torch.optim import lr_scheduler\n",
    "import torch.nn.functional as F\n",
    "import numpy as np\n",
    "import torchvision\n",
    "from torchvision import datasets, models, transforms\n",
    "from tqdm import tqdm\n",
    "import matplotlib.pyplot as plt"
   ]
  },
  {
   "cell_type": "markdown",
   "id": "2f1c0df3-3c38-4808-a0b9-d484a1fd4ef0",
   "metadata": {},
   "source": [
    "En aquest fitxer, realitzarem l'entrenament per al classificador binari que hem creat nosaltres BinaryAdroBalaNet. El primer que realitzarem es l'importació de les imatges que tractarà el model:"
   ]
  },
  {
   "cell_type": "code",
   "execution_count": 2,
   "id": "936590cb-37da-424f-bfe5-17e5b4f9b97e",
   "metadata": {},
   "outputs": [
    {
     "name": "stderr",
     "output_type": "stream",
     "text": [
      "Extracting and transforming values from train data:  14%|█████▉                                     | 817/5920 [00:05<00:31, 163.17it/s]Corrupt JPEG data: premature end of data segment\n",
      "Extracting and transforming values from train data:  52%|█████████████████████▊                    | 3076/5920 [00:19<00:17, 164.67it/s]Corrupt JPEG data: 245 extraneous bytes before marker 0xd9\n",
      "Extracting and transforming values from train data: 100%|██████████████████████████████████████████| 5920/5920 [00:36<00:00, 160.64it/s]\n",
      "Extracting and transforming values from test data: 100%|███████████████████████████████████████████| 1470/1470 [00:09<00:00, 152.64it/s]"
     ]
    },
    {
     "name": "stdout",
     "output_type": "stream",
     "text": [
      "Data loaded succesfully!\n"
     ]
    },
    {
     "name": "stderr",
     "output_type": "stream",
     "text": [
      "\n"
     ]
    }
   ],
   "source": [
    "oxford=Dataset('species',227)"
   ]
  },
  {
   "cell_type": "markdown",
   "id": "bba28c18-2e7f-49d2-b858-2b8cee9c25d5",
   "metadata": {},
   "source": [
    "Guardem dins dues variables les fotos corresponents al conjunt d'entrenament i de test:"
   ]
  },
  {
   "cell_type": "code",
   "execution_count": 3,
   "id": "f37c7219-5ef6-4c40-a7d3-e5c5ea9e86b1",
   "metadata": {},
   "outputs": [],
   "source": [
    "train_loader = torch.utils.data.DataLoader(oxford.train, 64,shuffle= True)\n",
    "test_loader = torch.utils.data.DataLoader(oxford.test, 100, shuffle= True)"
   ]
  },
  {
   "cell_type": "markdown",
   "id": "1a12c1a5-547f-4203-80de-5e3ca08a4187",
   "metadata": {},
   "source": [
    "Generam l'iterador amb el qual podrem iterar sobre totes les imatges"
   ]
  },
  {
   "cell_type": "code",
   "execution_count": 4,
   "id": "d2698a97-b084-4f8e-9e7b-28a36eef0e27",
   "metadata": {},
   "outputs": [
    {
     "data": {
      "text/plain": [
       "[tensor([[[[ 1.9447e+00,  1.9231e+00,  1.9588e+00,  ...,  2.2318e+00,\n",
       "             2.2318e+00,  2.2318e+00],\n",
       "           [ 1.9292e+00,  1.9727e+00,  1.9608e+00,  ...,  2.2316e+00,\n",
       "             2.2289e+00,  2.2281e+00],\n",
       "           [ 1.9803e+00,  1.9509e+00,  1.9216e+00,  ...,  2.2307e+00,\n",
       "             2.2103e+00,  2.2045e+00],\n",
       "           ...,\n",
       "           [ 6.8585e-01,  7.9068e-01,  1.0354e+00,  ...,  1.0518e+00,\n",
       "             1.0748e+00,  1.1763e+00],\n",
       "           [ 7.2790e-01,  9.4999e-01,  8.6196e-01,  ...,  9.6572e-01,\n",
       "             8.8169e-01,  9.8677e-01],\n",
       "           [ 6.7423e-01,  8.9679e-01,  8.4753e-01,  ...,  7.2921e-01,\n",
       "             6.9948e-01,  1.0850e+00]],\n",
       " \n",
       "          [[ 1.7849e+00,  1.7629e+00,  1.7994e+00,  ...,  2.0959e+00,\n",
       "             2.0959e+00,  2.0959e+00],\n",
       "           [ 1.7691e+00,  1.8135e+00,  1.8014e+00,  ...,  2.0958e+00,\n",
       "             2.0930e+00,  2.0922e+00],\n",
       "           [ 1.8213e+00,  1.7913e+00,  1.7614e+00,  ...,  2.0948e+00,\n",
       "             2.0739e+00,  2.0681e+00],\n",
       "           ...,\n",
       "           [ 5.2112e-01,  5.3523e-01,  7.8265e-01,  ...,  8.7120e-01,\n",
       "             8.9739e-01,  1.0030e+00],\n",
       "           [ 5.8932e-01,  7.2908e-01,  6.4289e-01,  ...,  7.6920e-01,\n",
       "             6.8397e-01,  7.9590e-01],\n",
       "           [ 5.5993e-01,  7.0391e-01,  6.5292e-01,  ...,  5.1734e-01,\n",
       "             5.0246e-01,  9.0602e-01]],\n",
       " \n",
       "          [[ 2.0515e+00,  2.0296e+00,  2.0659e+00,  ...,  2.3263e+00,\n",
       "             2.3263e+00,  2.3263e+00],\n",
       "           [ 2.0357e+00,  2.0800e+00,  2.0679e+00,  ...,  2.3261e+00,\n",
       "             2.3233e+00,  2.3225e+00],\n",
       "           [ 2.0877e+00,  2.0579e+00,  2.0280e+00,  ...,  2.3252e+00,\n",
       "             2.3044e+00,  2.2985e+00],\n",
       "           ...,\n",
       "           [ 7.1432e-01,  7.1424e-01,  9.1765e-01,  ...,  9.5610e-01,\n",
       "             9.7779e-01,  1.0792e+00],\n",
       "           [ 7.7721e-01,  9.0012e-01,  7.6817e-01,  ...,  8.9600e-01,\n",
       "             8.1319e-01,  9.1195e-01],\n",
       "           [ 7.4148e-01,  8.7208e-01,  7.7726e-01,  ...,  6.7730e-01,\n",
       "             6.2078e-01,  9.9218e-01]]],\n",
       " \n",
       " \n",
       "         [[[-2.0354e+00, -2.0727e+00, -2.0888e+00,  ..., -2.9023e-01,\n",
       "            -2.2096e-01, -3.0716e-01],\n",
       "           [-2.0826e+00, -2.0880e+00, -2.0642e+00,  ...,  5.8378e-01,\n",
       "             5.5420e-01,  3.9794e-01],\n",
       "           [-2.0697e+00, -2.0862e+00, -2.0699e+00,  ...,  6.8782e-01,\n",
       "             7.7054e-01,  8.8609e-01],\n",
       "           ...,\n",
       "           [-2.0788e+00, -2.0831e+00, -2.0827e+00,  ..., -2.0882e+00,\n",
       "            -2.0933e+00, -2.0925e+00],\n",
       "           [-2.0862e+00, -2.0949e+00, -2.0540e+00,  ..., -2.1017e+00,\n",
       "            -2.1005e+00, -2.0801e+00],\n",
       "           [-2.1014e+00, -2.0824e+00, -2.0654e+00,  ..., -2.1103e+00,\n",
       "            -2.1074e+00, -2.1033e+00]],\n",
       " \n",
       "          [[-3.7524e-01, -3.2887e-01, -2.8933e-01,  ...,  5.2606e-01,\n",
       "             5.1847e-01,  4.5358e-01],\n",
       "           [-4.4428e-01, -4.0785e-01, -4.1893e-01,  ...,  8.3982e-01,\n",
       "             7.5656e-01,  7.9019e-01],\n",
       "           [-4.6121e-01, -4.0417e-01, -4.2186e-01,  ...,  8.9627e-01,\n",
       "             9.8361e-01,  1.1108e+00],\n",
       "           ...,\n",
       "           [-1.0173e+00, -8.7287e-01, -9.1507e-01,  ..., -1.5268e+00,\n",
       "            -1.5869e+00, -1.5945e+00],\n",
       "           [-9.2041e-01, -6.2425e-01, -6.2337e-01,  ..., -1.4631e+00,\n",
       "            -1.5080e+00, -1.5302e+00],\n",
       "           [-8.3351e-01, -5.7451e-01, -5.5244e-01,  ..., -1.3790e+00,\n",
       "            -1.3767e+00, -1.4464e+00]],\n",
       " \n",
       "          [[ 2.0144e-01,  2.7937e-01,  3.3226e-01,  ...,  9.7135e-01,\n",
       "             9.5067e-01,  8.6491e-01],\n",
       "           [ 2.2350e-01,  2.1436e-01,  1.7858e-01,  ...,  1.2650e+00,\n",
       "             1.1850e+00,  1.1835e+00],\n",
       "           [ 2.0620e-01,  1.4187e-01,  7.7508e-02,  ...,  1.2700e+00,\n",
       "             1.3273e+00,  1.4355e+00],\n",
       "           ...,\n",
       "           [-9.0454e-01, -7.4920e-01, -8.1833e-01,  ..., -1.5199e+00,\n",
       "            -1.5978e+00, -1.6138e+00],\n",
       "           [-7.6778e-01, -4.7820e-01, -4.8987e-01,  ..., -1.4207e+00,\n",
       "            -1.4874e+00, -1.5253e+00],\n",
       "           [-6.8453e-01, -4.2085e-01, -3.9757e-01,  ..., -1.2992e+00,\n",
       "            -1.3112e+00, -1.3821e+00]]],\n",
       " \n",
       " \n",
       "         [[[-2.1008e+00, -2.1008e+00, -2.1008e+00,  ...,  1.5179e-01,\n",
       "             1.9757e-01,  2.5634e-01],\n",
       "           [-2.1008e+00, -2.1008e+00, -2.1008e+00,  ...,  1.8658e-01,\n",
       "             2.3361e-01,  2.7575e-01],\n",
       "           [-2.1008e+00, -2.1008e+00, -2.1010e+00,  ...,  2.2878e-01,\n",
       "             2.6660e-01,  3.0013e-01],\n",
       "           ...,\n",
       "           [-3.0298e-01, -2.4549e-01, -2.4494e-01,  ..., -4.0524e-02,\n",
       "            -3.3780e-01, -5.6397e-01],\n",
       "           [-2.9685e-01, -2.9133e-01, -2.7824e-01,  ..., -6.1605e-02,\n",
       "            -3.1752e-01, -6.1120e-01],\n",
       "           [-3.0723e-01, -2.8679e-01, -2.6575e-01,  ..., -3.6856e-02,\n",
       "            -1.9886e-01, -6.0295e-01]],\n",
       " \n",
       "          [[-2.0182e+00, -2.0182e+00, -2.0182e+00,  ...,  4.1035e-01,\n",
       "             4.2006e-01,  4.2995e-01],\n",
       "           [-2.0182e+00, -2.0182e+00, -2.0182e+00,  ...,  4.5379e-01,\n",
       "             4.8677e-01,  4.7413e-01],\n",
       "           [-2.0182e+00, -2.0182e+00, -2.0184e+00,  ...,  4.6136e-01,\n",
       "             5.1442e-01,  5.2428e-01],\n",
       "           ...,\n",
       "           [ 1.1134e-01,  1.2920e-01,  1.2221e-01,  ...,  2.4510e-01,\n",
       "             7.9820e-02, -7.1930e-02],\n",
       "           [ 1.1068e-01,  9.6291e-02,  1.0671e-01,  ...,  2.1200e-01,\n",
       "             9.6326e-02, -8.8607e-02],\n",
       "           [ 7.6851e-02,  7.5416e-02,  1.1588e-01,  ...,  2.5640e-01,\n",
       "             1.4603e-01, -1.1463e-01]],\n",
       " \n",
       "          [[-1.7870e+00, -1.7870e+00, -1.7870e+00,  ...,  7.7093e-01,\n",
       "             7.8386e-01,  8.1059e-01],\n",
       "           [-1.7870e+00, -1.7870e+00, -1.7870e+00,  ...,  7.3770e-01,\n",
       "             8.0893e-01,  8.2602e-01],\n",
       "           [-1.7870e+00, -1.7870e+00, -1.7872e+00,  ...,  8.0374e-01,\n",
       "             8.3453e-01,  8.3758e-01],\n",
       "           ...,\n",
       "           [ 4.7869e-01,  4.8641e-01,  5.1990e-01,  ...,  6.7015e-01,\n",
       "             5.7017e-01,  6.0348e-01],\n",
       "           [ 4.9224e-01,  4.7413e-01,  4.9102e-01,  ...,  6.5772e-01,\n",
       "             6.0996e-01,  5.8732e-01],\n",
       "           [ 4.7561e-01,  5.1643e-01,  5.0747e-01,  ...,  6.4804e-01,\n",
       "             6.9681e-01,  5.3749e-01]]],\n",
       " \n",
       " \n",
       "         ...,\n",
       " \n",
       " \n",
       "         [[[-9.5466e-01, -5.1074e-01, -4.6648e-01,  ..., -1.6264e+00,\n",
       "            -1.9043e+00, -1.7906e+00],\n",
       "           [-1.2637e+00, -1.2331e+00, -1.0607e+00,  ..., -2.0047e+00,\n",
       "            -1.9712e+00, -2.0292e+00],\n",
       "           [-1.2243e+00, -1.4690e+00, -1.4948e+00,  ..., -2.0435e+00,\n",
       "            -2.0033e+00, -2.0701e+00],\n",
       "           ...,\n",
       "           [-1.2666e+00, -1.2703e+00, -1.4912e+00,  ...,  5.5729e-01,\n",
       "             6.4749e-01,  2.3943e-01],\n",
       "           [-1.2135e+00, -1.3345e+00, -1.7280e+00,  ...,  2.3922e-01,\n",
       "             4.1814e-01,  3.5539e-01],\n",
       "           [-1.6230e+00, -1.6641e+00, -1.2733e+00,  ...,  3.2243e-01,\n",
       "            -1.8334e-02,  2.7203e-01]],\n",
       " \n",
       "          [[-1.3084e-01,  1.6863e-01,  2.8808e-01,  ..., -1.2133e+00,\n",
       "            -1.6646e+00, -1.4110e+00],\n",
       "           [-4.9163e-01, -5.8429e-01, -3.4489e-01,  ..., -1.6770e+00,\n",
       "            -1.7617e+00, -1.7495e+00],\n",
       "           [-3.9181e-01, -8.1460e-01, -8.9733e-01,  ..., -1.8323e+00,\n",
       "            -1.8305e+00, -1.7830e+00],\n",
       "           ...,\n",
       "           [-9.3579e-01, -9.6304e-01, -1.2878e+00,  ...,  1.0996e+00,\n",
       "             1.2628e+00,  9.8140e-01],\n",
       "           [-9.1071e-01, -1.1232e+00, -1.3866e+00,  ...,  7.6405e-01,\n",
       "             1.0178e+00,  1.1087e+00],\n",
       "           [-1.5786e+00, -1.3076e+00, -8.0943e-01,  ...,  8.6786e-01,\n",
       "             5.8962e-01,  8.0081e-01]],\n",
       " \n",
       "          [[-4.2818e-01, -1.6637e-01,  2.6192e-03,  ..., -1.1865e+00,\n",
       "            -1.4861e+00, -1.4158e+00],\n",
       "           [-7.5233e-01, -8.1944e-01, -6.1022e-01,  ..., -1.5106e+00,\n",
       "            -1.5671e+00, -1.6514e+00],\n",
       "           [-5.7915e-01, -9.1367e-01, -9.6811e-01,  ..., -1.5439e+00,\n",
       "            -1.5344e+00, -1.5921e+00],\n",
       "           ...,\n",
       "           [-5.9289e-01, -6.9957e-01, -8.8957e-01,  ...,  1.5376e+00,\n",
       "             1.5926e+00,  1.4472e+00],\n",
       "           [-4.7743e-01, -7.7697e-01, -1.1101e+00,  ...,  1.0972e+00,\n",
       "             1.3184e+00,  1.5203e+00],\n",
       "           [-1.2430e+00, -9.0910e-01, -3.4218e-01,  ...,  1.1691e+00,\n",
       "             9.9015e-01,  1.3080e+00]]],\n",
       " \n",
       " \n",
       "         [[[ 3.6084e-01,  3.7404e-01,  3.7945e-01,  ...,  1.8511e-01,\n",
       "             6.5279e-02, -2.5218e-02],\n",
       "           [ 3.4243e-01,  2.8483e-01,  1.5176e-01,  ..., -1.2450e-01,\n",
       "            -1.4214e-01, -5.4749e-02],\n",
       "           [ 3.0122e-01,  2.4143e-01,  7.6433e-02,  ..., -1.6896e-01,\n",
       "            -6.5755e-02, -3.1859e-02],\n",
       "           ...,\n",
       "           [ 4.9471e-01,  7.5706e-02,  7.3392e-01,  ..., -2.5557e-01,\n",
       "             9.5108e-02, -3.3808e-01],\n",
       "           [ 7.9008e-01,  5.9671e-01,  6.5904e-01,  ..., -2.4156e-01,\n",
       "            -3.7954e-01, -2.2961e-01],\n",
       "           [ 2.7352e-01,  1.0848e+00,  1.3367e+00,  ..., -3.8203e-01,\n",
       "            -3.9878e-01, -3.3845e-01]],\n",
       " \n",
       "          [[ 1.0486e+00,  1.1012e+00,  1.0795e+00,  ...,  4.6812e-01,\n",
       "             5.5931e-01,  5.6030e-01],\n",
       "           [ 1.1162e+00,  1.0966e+00,  9.0412e-01,  ...,  2.8073e-01,\n",
       "             2.5570e-01,  3.9959e-01],\n",
       "           [ 1.0762e+00,  1.0518e+00,  8.0829e-01,  ...,  3.7135e-01,\n",
       "             3.3618e-01,  3.6406e-01],\n",
       "           ...,\n",
       "           [ 1.1079e+00,  4.9735e-01,  1.0183e+00,  ...,  1.8884e-01,\n",
       "             4.0143e-01, -3.4913e-02],\n",
       "           [ 1.2447e+00,  9.8121e-01,  9.3235e-01,  ...,  2.3261e-01,\n",
       "             2.9367e-01,  3.1165e-01],\n",
       "           [ 5.8054e-01,  1.3297e+00,  1.4840e+00,  ...,  1.0558e-01,\n",
       "             2.2413e-01,  1.4714e-01]],\n",
       " \n",
       "          [[ 8.2177e-01,  8.1817e-01,  8.4065e-01,  ...,  4.8561e-01,\n",
       "             4.5906e-01,  3.7851e-01],\n",
       "           [ 8.3953e-01,  7.5102e-01,  5.9455e-01,  ...,  2.9367e-01,\n",
       "             3.3188e-01,  3.8625e-01],\n",
       "           [ 8.1004e-01,  7.5533e-01,  5.8978e-01,  ...,  2.1984e-01,\n",
       "             3.9211e-01,  4.2252e-01],\n",
       "           ...,\n",
       "           [ 7.7296e-01,  1.6872e-01,  7.7591e-01,  ..., -1.6171e-01,\n",
       "             8.6139e-02, -2.1711e-01],\n",
       "           [ 1.0659e+00,  8.3473e-01,  8.4033e-01,  ..., -8.5035e-02,\n",
       "            -9.1759e-02,  4.2190e-02],\n",
       "           [ 5.7346e-01,  1.3779e+00,  1.5798e+00,  ..., -2.1732e-01,\n",
       "            -1.2703e-01, -5.7550e-02]]],\n",
       " \n",
       " \n",
       "         [[[-1.0022e+00, -9.9702e-01, -9.7280e-01,  ..., -1.4155e+00,\n",
       "            -1.6829e+00, -1.5796e+00],\n",
       "           [-9.7469e-01, -1.0467e+00, -9.8005e-01,  ..., -1.1259e+00,\n",
       "            -1.4916e+00, -1.6224e+00],\n",
       "           [-1.1273e+00, -1.1112e+00, -9.8714e-01,  ..., -1.6010e+00,\n",
       "            -1.6625e+00, -1.4358e+00],\n",
       "           ...,\n",
       "           [-6.0718e-01, -6.1843e-01, -6.4339e-01,  ..., -1.6717e+00,\n",
       "            -1.6355e+00, -1.3087e+00],\n",
       "           [-6.0144e-01, -6.0466e-01, -5.9063e-01,  ..., -1.6583e+00,\n",
       "            -1.6300e+00, -1.4202e+00],\n",
       "           [-6.1394e-01, -5.2146e-01, -5.7638e-01,  ..., -1.6185e+00,\n",
       "            -1.6741e+00, -1.5514e+00]],\n",
       " \n",
       "          [[-7.2318e-01, -6.6050e-01, -6.2249e-01,  ..., -9.2454e-01,\n",
       "            -1.2290e+00, -1.0336e+00],\n",
       "           [-6.2891e-01, -7.1112e-01, -6.6765e-01,  ..., -5.2097e-01,\n",
       "            -1.0923e+00, -1.2082e+00],\n",
       "           [-7.6917e-01, -7.8071e-01, -6.7954e-01,  ..., -9.7815e-01,\n",
       "            -1.1591e+00, -9.7932e-01],\n",
       "           ...,\n",
       "           [-1.4359e-01, -2.1077e-01, -2.6161e-01,  ..., -1.1331e+00,\n",
       "            -1.0045e+00, -8.0845e-01],\n",
       "           [-1.1890e-01, -2.4568e-01, -1.8741e-01,  ..., -1.0119e+00,\n",
       "            -1.1258e+00, -8.9082e-01],\n",
       "           [-2.1521e-01, -1.2963e-01, -1.3956e-01,  ..., -1.0068e+00,\n",
       "            -9.6154e-01, -9.0226e-01]],\n",
       " \n",
       "          [[ 3.9705e-01,  4.2344e-01,  4.2998e-01,  ..., -3.5664e-01,\n",
       "            -7.9364e-01, -4.1926e-01],\n",
       "           [ 4.5297e-01,  3.9633e-01,  4.3732e-01,  ..., -1.6389e-03,\n",
       "            -5.5413e-01, -6.4951e-01],\n",
       "           [ 3.2736e-01,  3.5836e-01,  4.1410e-01,  ..., -6.0205e-01,\n",
       "            -8.4522e-01, -6.4744e-01],\n",
       "           ...,\n",
       "           [ 4.2860e-01,  3.6607e-01,  2.6755e-01,  ..., -6.5592e-01,\n",
       "            -5.6358e-01, -5.6095e-01],\n",
       "           [ 4.2887e-01,  3.5128e-01,  4.0370e-01,  ..., -6.4661e-01,\n",
       "            -9.3133e-01, -7.8988e-01],\n",
       "           [ 2.8627e-01,  3.7674e-01,  4.1440e-01,  ..., -7.8007e-01,\n",
       "            -9.3090e-01, -8.8415e-01]]]]),\n",
       " tensor([0, 0, 0, 0, 0, 1, 0, 0, 0, 1, 0, 0, 0, 0, 0, 0, 1, 0, 1, 0, 1, 0, 1, 0,\n",
       "         1, 1, 0, 0, 0, 0, 0, 0, 0, 1, 1, 1, 0, 1, 0, 1, 0, 1, 1, 0, 1, 0, 1, 0,\n",
       "         0, 0, 0, 1, 0, 1, 0, 0, 1, 0, 0, 0, 0, 0, 0, 0, 1, 1, 0, 0, 0, 0, 0, 0,\n",
       "         0, 0, 0, 1, 0, 0, 0, 0, 0, 0, 0, 0, 0, 0, 0, 0, 0, 0, 0, 0, 0, 0, 0, 0,\n",
       "         0, 0, 0, 0])]"
      ]
     },
     "execution_count": 4,
     "metadata": {},
     "output_type": "execute_result"
    }
   ],
   "source": [
    "iterador =  iter(test_loader)\n",
    "next(iterador)"
   ]
  },
  {
   "cell_type": "markdown",
   "id": "615b7d65-76be-4aff-bfd7-c22b8f45422a",
   "metadata": {},
   "source": [
    "Una vegada esta tot preparat, realitzam l'entrenament corresponent al model:"
   ]
  },
  {
   "cell_type": "code",
   "execution_count": 5,
   "id": "124d0020-64aa-4748-909c-73e5181fc791",
   "metadata": {},
   "outputs": [
    {
     "name": "stderr",
     "output_type": "stream",
     "text": [
      "/Users/joanbalaguer/opt/miniconda3/envs/aa2023/lib/python3.10/site-packages/torchvision/models/_utils.py:208: UserWarning: The parameter 'pretrained' is deprecated since 0.13 and may be removed in the future, please use 'weights' instead.\n",
      "  warnings.warn(\n",
      "/Users/joanbalaguer/opt/miniconda3/envs/aa2023/lib/python3.10/site-packages/torchvision/models/_utils.py:223: UserWarning: Arguments other than a weight enum or `None` for 'weights' are deprecated since 0.13 and may be removed in the future. The current behavior is equivalent to passing `weights=None`.\n",
      "  warnings.warn(msg)\n"
     ]
    },
    {
     "name": "stdout",
     "output_type": "stream",
     "text": [
      "Trainable Parameters:  3649730\n"
     ]
    },
    {
     "name": "stderr",
     "output_type": "stream",
     "text": [
      " 10%|█████████▉                                                                                         | 1/10 [03:01<27:12, 181.40s/it]"
     ]
    },
    {
     "name": "stdout",
     "output_type": "stream",
     "text": [
      "\n",
      "Test set: Average loss: 0.0065, Accuracy: 990/1470 (67.35%)\n",
      "\n"
     ]
    },
    {
     "name": "stderr",
     "output_type": "stream",
     "text": [
      " 20%|███████████████████▊                                                                               | 2/10 [05:52<23:24, 175.57s/it]"
     ]
    },
    {
     "name": "stdout",
     "output_type": "stream",
     "text": [
      "\n",
      "Test set: Average loss: 0.0062, Accuracy: 990/1470 (67.35%)\n",
      "\n"
     ]
    },
    {
     "name": "stderr",
     "output_type": "stream",
     "text": [
      " 30%|█████████████████████████████▋                                                                     | 3/10 [08:41<20:05, 172.24s/it]"
     ]
    },
    {
     "name": "stdout",
     "output_type": "stream",
     "text": [
      "\n",
      "Test set: Average loss: 0.0059, Accuracy: 990/1470 (67.35%)\n",
      "\n"
     ]
    },
    {
     "name": "stderr",
     "output_type": "stream",
     "text": [
      " 40%|███████████████████████████████████████▌                                                           | 4/10 [11:39<17:26, 174.45s/it]"
     ]
    },
    {
     "name": "stdout",
     "output_type": "stream",
     "text": [
      "\n",
      "Test set: Average loss: 0.0063, Accuracy: 994/1470 (67.62%)\n",
      "\n"
     ]
    },
    {
     "name": "stderr",
     "output_type": "stream",
     "text": [
      " 50%|█████████████████████████████████████████████████▌                                                 | 5/10 [14:56<15:14, 182.94s/it]"
     ]
    },
    {
     "name": "stdout",
     "output_type": "stream",
     "text": [
      "\n",
      "Test set: Average loss: 0.0057, Accuracy: 996/1470 (67.76%)\n",
      "\n"
     ]
    },
    {
     "name": "stderr",
     "output_type": "stream",
     "text": [
      " 60%|███████████████████████████████████████████████████████████▍                                       | 6/10 [17:49<11:57, 179.46s/it]"
     ]
    },
    {
     "name": "stdout",
     "output_type": "stream",
     "text": [
      "\n",
      "Test set: Average loss: 0.0056, Accuracy: 1087/1470 (73.95%)\n",
      "\n"
     ]
    },
    {
     "name": "stderr",
     "output_type": "stream",
     "text": [
      " 70%|█████████████████████████████████████████████████████████████████████▎                             | 7/10 [20:44<08:53, 177.90s/it]"
     ]
    },
    {
     "name": "stdout",
     "output_type": "stream",
     "text": [
      "\n",
      "Test set: Average loss: 0.0053, Accuracy: 1076/1470 (73.20%)\n",
      "\n"
     ]
    },
    {
     "name": "stderr",
     "output_type": "stream",
     "text": [
      " 80%|███████████████████████████████████████████████████████████████████████████████▏                   | 8/10 [23:39<05:53, 176.92s/it]"
     ]
    },
    {
     "name": "stdout",
     "output_type": "stream",
     "text": [
      "\n",
      "Test set: Average loss: 0.0053, Accuracy: 1044/1470 (71.02%)\n",
      "\n"
     ]
    },
    {
     "name": "stderr",
     "output_type": "stream",
     "text": [
      " 90%|█████████████████████████████████████████████████████████████████████████████████████████          | 9/10 [26:37<02:57, 177.27s/it]"
     ]
    },
    {
     "name": "stdout",
     "output_type": "stream",
     "text": [
      "\n",
      "Test set: Average loss: 0.0054, Accuracy: 1112/1470 (75.65%)\n",
      "\n"
     ]
    },
    {
     "name": "stderr",
     "output_type": "stream",
     "text": [
      "100%|██████████████████████████████████████████████████████████████████████████████████████████████████| 10/10 [29:35<00:00, 177.53s/it]"
     ]
    },
    {
     "name": "stdout",
     "output_type": "stream",
     "text": [
      "\n",
      "Test set: Average loss: 0.0052, Accuracy: 1116/1470 (75.92%)\n",
      "\n"
     ]
    },
    {
     "name": "stderr",
     "output_type": "stream",
     "text": [
      "\n"
     ]
    }
   ],
   "source": [
    "# Entrenament Binary AdroBalaNet\n",
    "use_cuda = False\n",
    "torch.manual_seed(33)\n",
    "\n",
    "if use_cuda:\n",
    "    device = torch.device(\"cuda\")\n",
    "else:\n",
    "    device = torch.device(\"cpu\")\n",
    "    \n",
    "lr = 1e-1\n",
    "\n",
    "model = BinaryAdroBalaNet().to(device)\n",
    "optimizer = optim.SGD(model.parameters(), lr=lr)\n",
    "\n",
    "trainer = ModelTrainer(train_loader,test_loader,optimizer,F.cross_entropy,10)\n",
    "\n",
    "best_model, train_loss, test_loss = trainer.train_test(model, device)"
   ]
  },
  {
   "cell_type": "markdown",
   "id": "a503d8df-01fb-4bf2-8f04-dea664fb92a1",
   "metadata": {},
   "source": [
    "Una vegada finalitzat l'entrenament, generam el fitxer de pesos del model:"
   ]
  },
  {
   "cell_type": "code",
   "execution_count": 6,
   "id": "35d1c72d-dcc5-45d0-aea5-7f8b38b84f16",
   "metadata": {},
   "outputs": [],
   "source": [
    "# Guardem els pesos del model\n",
    "path_to_save = 'weights/model_weights_Binary_Adro_Bala_Net.pth'\n",
    "torch.save(best_model.state_dict(), path_to_save)"
   ]
  },
  {
   "cell_type": "markdown",
   "id": "0e1f9932-05e8-4bb1-82e1-827ffedb0b7c",
   "metadata": {},
   "source": [
    "Finalment, mostrem la gràfica de pèrdua que ha tingut el model durant l'entrenament:"
   ]
  },
  {
   "cell_type": "code",
   "execution_count": 7,
   "id": "cef932e2-4397-442d-84a5-d6bf97a31fcc",
   "metadata": {},
   "outputs": [
    {
     "data": {
      "image/png": "[encoded data removed]",
      "text/plain": [
       "<Figure size 1000x500 with 1 Axes>"
      ]
     },
     "metadata": {},
     "output_type": "display_data"
    }
   ],
   "source": [
    "# Creant el gràfic de pèrdua\n",
    "plt.figure(figsize=(10, 5))\n",
    "plt.plot(train_loss, label='Pèrdua d\\'Entrenament')\n",
    "plt.plot(test_loss, label='Pèrdua de Prova')\n",
    "plt.title('Funció de Pèrdua Durant l\\'Entrenament i la Prova')\n",
    "plt.xlabel('Èpoques')\n",
    "plt.ylabel('Pèrdua')\n",
    "plt.legend()\n",
    "plt.show()"
   ]
  },
  {
   "cell_type": "markdown",
   "id": "3b8217ff-2875-46c1-8a35-ae7f0690343a",
   "metadata": {},
   "source": [
    "Una vegada entrenat el model i mostrada la funció de pèrdua, anem a comprovar que realment hem emmagatzemat els pesos del millor model que hem entrenat:"
   ]
  },
  {
   "cell_type": "code",
   "execution_count": 8,
   "id": "07e20606-474f-4011-b07b-4a31860a57c9",
   "metadata": {},
   "outputs": [
    {
     "name": "stdout",
     "output_type": "stream",
     "text": [
      "\n",
      "Test set: Average loss: 0.0051, Accuracy: 1116/1470 (75.92%)\n",
      "\n"
     ]
    }
   ],
   "source": [
    "ruta_modelo = 'weights/model_weights_Binary_Adro_Bala_Net.pth'\n",
    "model = BinaryAdroBalaNet()\n",
    "model.load_state_dict(torch.load(ruta_modelo))\n",
    "model.eval()\n",
    "\n",
    "test_loss = 0\n",
    "correct = 0\n",
    "with torch.no_grad():\n",
    "    for data, target in test_loader:\n",
    "        data, target = data.to(device), target.to(device)\n",
    "        output = model(data)\n",
    "        output = torch.squeeze(output)\n",
    "        test_loss += F.cross_entropy(output, target, reduction='mean') \n",
    "        pred = output.argmax(dim=1, keepdim=True)  # get the index of the max probability\n",
    "        correct += pred.eq(target.view_as(pred)).sum().item()\n",
    "\n",
    "test_loss /= len(test_loader.dataset)\n",
    "\n",
    "accuracy = 100. * correct / len(test_loader.dataset)\n",
    "\n",
    "print('\\nTest set: Average loss: {:.4f}, Accuracy: {}/{} ({:.2f}%)\\n'.format(\n",
    "    test_loss, correct, len(test_loader.dataset), accuracy))"
   ]
  }
 ],
 "metadata": {
  "kernelspec": {
   "display_name": "Python 3 (ipykernel)",
   "language": "python",
   "name": "python3"
  },
  "language_info": {
   "codemirror_mode": {
    "name": "ipython",
    "version": 3
   },
   "file_extension": ".py",
   "mimetype": "text/x-python",
   "name": "python",
   "nbconvert_exporter": "python",
   "pygments_lexer": "ipython3",
   "version": "3.11.5"
  }
 },
 "nbformat": 4,
 "nbformat_minor": 5
}
