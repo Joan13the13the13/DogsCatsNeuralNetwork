{
 "cells": [
  {
   "cell_type": "markdown",
   "id": "7be44da1-0b77-4162-bf0c-6f326dc09cf2",
   "metadata": {},
   "source": [
    "## MultiAlexNetTraining"
   ]
  },
  {
   "cell_type": "code",
   "execution_count": 12,
   "id": "b6deb0ef-b328-4cb9-90a7-5fc322f45a00",
   "metadata": {},
   "outputs": [],
   "source": [
    "import torchvision.transforms as transforms\n",
    "from utils.Dataset import Dataset  \n",
    "from models.classifiers import BinaryAlexNet,MultiAlexNet,BinaryAdroBalaNet\n",
    "from utils.ModelTrainer import ModelTrainer\n",
    "import torch\n",
    "import torch.nn as nn\n",
    "import torch.optim as optim\n",
    "from torch.optim import lr_scheduler\n",
    "import torch.nn.functional as F\n",
    "import numpy as np\n",
    "import torchvision\n",
    "from torchvision import datasets, models, transforms\n",
    "from tqdm import tqdm\n",
    "import matplotlib.pyplot as plt"
   ]
  },
  {
   "cell_type": "markdown",
   "id": "2f1c0df3-3c38-4808-a0b9-d484a1fd4ef0",
   "metadata": {},
   "source": [
    "En aquest fitxer, realitzarem l'entrenament per al classificador multiclasse AlexNet. El primer que realitzarem es l'importació de les imatges que tractarà el model:"
   ]
  },
  {
   "cell_type": "code",
   "execution_count": 13,
   "id": "936590cb-37da-424f-bfe5-17e5b4f9b97e",
   "metadata": {},
   "outputs": [
    {
     "name": "stderr",
     "output_type": "stream",
     "text": [
      "Extracting and transforming values from train data:  14%|█████▉                                     | 822/5920 [00:03<00:18, 273.74it/s]Corrupt JPEG data: premature end of data segment\n",
      "Extracting and transforming values from train data:  52%|█████████████████████▊                    | 3078/5920 [00:11<00:09, 284.29it/s]Corrupt JPEG data: 245 extraneous bytes before marker 0xd9\n",
      "Extracting and transforming values from train data: 100%|██████████████████████████████████████████| 5920/5920 [00:21<00:00, 278.41it/s]\n",
      "Extracting and transforming values from test data: 100%|███████████████████████████████████████████| 1470/1470 [00:05<00:00, 278.00it/s]"
     ]
    },
    {
     "name": "stdout",
     "output_type": "stream",
     "text": [
      "Data loaded succesfully!\n"
     ]
    },
    {
     "name": "stderr",
     "output_type": "stream",
     "text": [
      "\n"
     ]
    }
   ],
   "source": [
    "oxford=Dataset('class',227)"
   ]
  },
  {
   "cell_type": "markdown",
   "id": "bba28c18-2e7f-49d2-b858-2b8cee9c25d5",
   "metadata": {},
   "source": [
    "Guardem dins dues variables les fotos corresponents al conjunt d'entrenament i de test:"
   ]
  },
  {
   "cell_type": "code",
   "execution_count": 14,
   "id": "f37c7219-5ef6-4c40-a7d3-e5c5ea9e86b1",
   "metadata": {},
   "outputs": [],
   "source": [
    "train_loader = torch.utils.data.DataLoader(oxford.train, 64, shuffle = True)\n",
    "test_loader = torch.utils.data.DataLoader(oxford.test, 100, shuffle = True)"
   ]
  },
  {
   "cell_type": "markdown",
   "id": "1a12c1a5-547f-4203-80de-5e3ca08a4187",
   "metadata": {},
   "source": [
    "Generam l'iterador amb el qual podrem iterar sobre totes les imatges"
   ]
  },
  {
   "cell_type": "code",
   "execution_count": 15,
   "id": "d2698a97-b084-4f8e-9e7b-28a36eef0e27",
   "metadata": {},
   "outputs": [
    {
     "data": {
      "text/plain": [
       "[tensor([[[[-0.7502, -0.0610, -0.3828,  ...,  2.2174,  2.2354,  2.2489],\n",
       "           [-0.4322, -0.1890, -0.4064,  ...,  2.2233,  2.2294,  2.2423],\n",
       "           [-0.4520, -0.1483, -0.2761,  ...,  2.2322,  2.2251,  2.2222],\n",
       "           ...,\n",
       "           [-1.3525, -1.3878, -1.3231,  ..., -1.2432, -0.7417, -1.0445],\n",
       "           [-1.7487, -1.4719, -1.5616,  ..., -1.4918, -1.1863, -0.5981],\n",
       "           [-1.7046, -1.5917, -1.5419,  ..., -1.7252, -1.6130, -1.0337]],\n",
       " \n",
       "          [[-0.0833,  0.4554,  0.4060,  ...,  2.2907,  2.2837,  2.2704],\n",
       "           [ 0.1537,  0.3819,  0.3837,  ...,  2.3142,  2.3082,  2.2895],\n",
       "           [ 0.0884,  0.4358,  0.5481,  ...,  2.3494,  2.3326,  2.3224],\n",
       "           ...,\n",
       "           [-0.9586, -0.8754, -0.3379,  ..., -0.8805, -0.1398, -0.6874],\n",
       "           [-1.4544, -0.7939, -0.6561,  ..., -1.1068, -0.8232,  0.0428],\n",
       "           [-1.3858, -0.6814, -0.9153,  ..., -1.2894, -1.2859, -0.4704]],\n",
       " \n",
       "          [[ 0.5585,  0.9533,  0.6608,  ...,  2.4050,  2.3789,  2.3662],\n",
       "           [ 0.6533,  0.8775,  0.7703,  ...,  2.4478,  2.4294,  2.4143],\n",
       "           [ 0.6907,  1.0721,  0.9511,  ...,  2.4872,  2.4729,  2.4476],\n",
       "           ...,\n",
       "           [-0.7582, -0.6202, -0.4870,  ..., -0.5745, -0.0604, -0.4762],\n",
       "           [-1.1890, -0.5503, -0.7825,  ..., -0.8363, -0.5869, -0.0256],\n",
       "           [-1.1552, -0.6194, -0.8023,  ..., -1.0913, -1.0016, -0.4651]]],\n",
       " \n",
       " \n",
       "         [[[-0.6032, -0.6318, -0.6012,  ...,  0.5754,  0.6100,  0.6416],\n",
       "           [-0.6133, -0.6159, -0.5910,  ...,  0.6536,  0.6459,  0.6241],\n",
       "           [-0.5703, -0.6016, -0.6041,  ...,  0.6777,  0.6659,  0.6479],\n",
       "           ...,\n",
       "           [-1.2323, -1.0609, -1.5219,  ..., -1.2242, -1.2285, -1.0993],\n",
       "           [-1.0750, -1.0973, -1.5506,  ..., -1.1379, -1.1496, -1.1636],\n",
       "           [-1.1823, -1.2598, -1.3176,  ..., -1.1064, -1.1402, -1.1809]],\n",
       " \n",
       "          [[-0.8964, -0.9163, -0.8918,  ...,  0.3351,  0.3793,  0.4162],\n",
       "           [-0.8852, -0.8766, -0.8719,  ...,  0.4230,  0.4267,  0.4262],\n",
       "           [-0.8578, -0.8758, -0.8671,  ...,  0.4428,  0.4282,  0.4420],\n",
       "           ...,\n",
       "           [ 0.0583,  0.1718, -0.4617,  ...,  0.3313,  0.3033,  0.4839],\n",
       "           [ 0.1068,  0.1568, -0.5112,  ...,  0.5484,  0.5183,  0.2200],\n",
       "           [-0.2869, -0.1551, -0.1055,  ...,  0.4114,  0.4962,  0.3469]],\n",
       " \n",
       "          [[-1.4658, -1.4888, -1.4786,  ..., -0.1698, -0.1118, -0.0236],\n",
       "           [-1.4506, -1.4572, -1.4871,  ..., -0.0277, -0.0082, -0.0133],\n",
       "           [-1.4322, -1.4537, -1.4484,  ...,  0.0471,  0.0292,  0.0062],\n",
       "           ...,\n",
       "           [ 1.3826,  1.4832,  0.8378,  ...,  2.1630,  2.0967,  2.1372],\n",
       "           [ 1.3868,  1.3080,  0.6392,  ...,  2.1302,  2.2187,  1.9538],\n",
       "           [ 0.8266,  0.9444,  1.3548,  ...,  2.2076,  2.2079,  2.0192]]],\n",
       " \n",
       " \n",
       "         [[[ 1.2282,  1.2229,  1.2370,  ...,  0.8215,  0.8243,  0.8243],\n",
       "           [ 1.2586,  1.2076,  1.2286,  ...,  0.8131,  0.8190,  0.8190],\n",
       "           [ 1.2495,  1.2212,  1.2180,  ...,  0.8006,  0.8036,  0.8036],\n",
       "           ...,\n",
       "           [ 0.8090,  0.8145,  0.8014,  ...,  0.5177,  0.6322,  0.7294],\n",
       "           [ 0.7968,  0.7956,  0.7872,  ...,  0.5280,  0.6453,  0.7209],\n",
       "           [ 0.8181,  0.8172,  0.8250,  ...,  0.5282,  0.6387,  0.7179]],\n",
       " \n",
       "          [[ 1.2626,  1.2571,  1.2715,  ...,  1.0394,  1.0422,  1.0422],\n",
       "           [ 1.2936,  1.2415,  1.2630,  ...,  1.0307,  1.0367,  1.0367],\n",
       "           [ 1.2843,  1.2553,  1.2521,  ...,  1.0180,  1.0210,  1.0210],\n",
       "           ...,\n",
       "           [ 1.0335,  1.0184,  1.0020,  ...,  0.6763,  0.7932,  0.8926],\n",
       "           [ 1.0473,  1.0431,  1.0326,  ...,  0.6868,  0.8067,  0.8840],\n",
       "           [ 1.0708,  1.0699,  1.0779,  ...,  0.6870,  0.7999,  0.8809]],\n",
       " \n",
       "          [[ 1.3223,  1.3169,  1.3312,  ...,  1.1698,  1.1726,  1.1726],\n",
       "           [ 1.3532,  1.3013,  1.3227,  ...,  1.1612,  1.1672,  1.1672],\n",
       "           [ 1.3439,  1.3151,  1.3119,  ...,  1.1486,  1.1516,  1.1516],\n",
       "           ...,\n",
       "           [ 1.1657,  1.2162,  1.2084,  ...,  0.7386,  0.8551,  0.9540],\n",
       "           [ 1.1831,  1.1895,  1.1829,  ...,  0.7491,  0.8685,  0.9454],\n",
       "           [ 1.2011,  1.2003,  1.2082,  ...,  0.7493,  0.8617,  0.9423]]],\n",
       " \n",
       " \n",
       "         ...,\n",
       " \n",
       " \n",
       "         [[[-0.2257, -0.1858, -0.1977,  ...,  0.3396,  0.3848,  0.4475],\n",
       "           [-0.2150, -0.2261, -0.2302,  ...,  0.3500,  0.3979,  0.4548],\n",
       "           [-0.2023, -0.2430, -0.2714,  ...,  0.3587,  0.4043,  0.4677],\n",
       "           ...,\n",
       "           [ 1.2981,  1.3543,  1.3797,  ..., -1.3428, -1.3051, -1.2530],\n",
       "           [ 1.5960,  1.6312,  1.6353,  ..., -1.3283, -1.2915, -1.2504],\n",
       "           [ 1.7839,  1.8276,  1.8397,  ..., -1.3242, -1.2930, -1.2549]],\n",
       " \n",
       "          [[-0.2012, -0.2111, -0.2049,  ...,  0.2730,  0.2960,  0.3310],\n",
       "           [-0.1812, -0.2373, -0.2253,  ...,  0.2836,  0.3095,  0.3385],\n",
       "           [-0.1673, -0.2532, -0.2628,  ...,  0.2926,  0.3160,  0.3517],\n",
       "           ...,\n",
       "           [ 2.2339,  2.2408,  2.2163,  ..., -1.1914, -1.1879, -1.1753],\n",
       "           [ 2.2557,  2.2682,  2.2504,  ..., -1.1958, -1.1832, -1.1647],\n",
       "           [ 2.2719,  2.2924,  2.3014,  ..., -1.2215, -1.1819, -1.1462]],\n",
       " \n",
       "          [[-0.4048, -0.3852, -0.3762,  ...,  0.5018,  0.4880,  0.5028],\n",
       "           [-0.4071, -0.4178, -0.3898,  ...,  0.5124,  0.5014,  0.5102],\n",
       "           [-0.3952, -0.4365, -0.4204,  ...,  0.5213,  0.5078,  0.5234],\n",
       "           ...,\n",
       "           [ 2.4245,  2.4371,  2.4243,  ..., -0.8813, -0.8731, -0.8424],\n",
       "           [ 2.4889,  2.5056,  2.4878,  ..., -0.8788, -0.8237, -0.7783],\n",
       "           [ 2.5300,  2.5521,  2.5509,  ..., -0.8880, -0.7879, -0.7446]]],\n",
       " \n",
       " \n",
       "         [[[-1.8589, -1.8488, -1.8330,  ..., -1.7671, -1.7832, -1.7851],\n",
       "           [-1.8497, -1.8455, -1.8290,  ..., -1.7560, -1.7657, -1.7697],\n",
       "           [-1.8315, -1.8216, -1.8280,  ..., -1.7419, -1.7585, -1.7672],\n",
       "           ...,\n",
       "           [-0.6225, -0.3914, -0.3973,  ...,  1.8346,  1.7594,  1.6484],\n",
       "           [-1.2261, -1.2012, -1.1918,  ...,  2.0413,  1.9881,  1.9525],\n",
       "           [-1.2823, -1.2772, -1.2608,  ...,  2.0996,  2.0755,  2.0470]],\n",
       " \n",
       "          [[-1.7535, -1.7431, -1.7270,  ..., -1.6596, -1.6761, -1.6780],\n",
       "           [-1.7440, -1.7397, -1.7229,  ..., -1.6482, -1.6581, -1.6622],\n",
       "           [-1.7156, -1.7106, -1.7208,  ..., -1.6344, -1.6508, -1.6596],\n",
       "           ...,\n",
       "           [-0.2086, -0.0261, -0.0387,  ...,  2.1647,  2.1643,  2.1204],\n",
       "           [-0.8237, -0.8308, -0.8246,  ...,  2.1203,  2.1202,  2.1213],\n",
       "           [-0.8434, -0.8701, -0.8650,  ...,  2.2197,  2.2151,  2.2193]],\n",
       " \n",
       "          [[-1.5932, -1.5823, -1.5568,  ..., -1.4648, -1.4813, -1.4832],\n",
       "           [-1.5838, -1.5775, -1.5385,  ..., -1.4536, -1.4634, -1.4675],\n",
       "           [-1.5751, -1.5596, -1.5549,  ..., -1.4386, -1.4560, -1.4658],\n",
       "           ...,\n",
       "           [ 0.2474,  0.4349,  0.3963,  ...,  2.3771,  2.3766,  2.3282],\n",
       "           [-0.2929, -0.3255, -0.3283,  ...,  2.2792,  2.2819,  2.2936],\n",
       "           [-0.3404, -0.4081, -0.3941,  ...,  2.4256,  2.4369,  2.4359]]],\n",
       " \n",
       " \n",
       "         [[[ 2.1536,  2.0584,  2.0733,  ...,  2.2489,  2.2489,  2.2489],\n",
       "           [ 1.9874,  1.9655,  2.0060,  ...,  2.2489,  2.2489,  2.2489],\n",
       "           [ 1.8671,  1.9040,  1.9772,  ...,  2.2489,  2.2489,  2.2489],\n",
       "           ...,\n",
       "           [-0.7208, -0.6636, -0.6473,  ..., -1.4077, -1.6999, -1.6984],\n",
       "           [-0.5497, -0.5663, -0.5544,  ..., -1.5833, -1.5769, -1.6574],\n",
       "           [-0.3925, -0.4759, -0.3832,  ..., -1.4343, -1.3965, -1.5879]],\n",
       " \n",
       "          [[ 2.4062,  2.4021,  2.4112,  ...,  2.4286,  2.4286,  2.4286],\n",
       "           [ 2.3990,  2.4039,  2.3991,  ...,  2.4286,  2.4286,  2.4286],\n",
       "           [ 2.4089,  2.4049,  2.4047,  ...,  2.4286,  2.4286,  2.4286],\n",
       "           ...,\n",
       "           [-0.5563, -0.4925, -0.4780,  ..., -1.4436, -1.7145, -1.6904],\n",
       "           [-0.4283, -0.4044, -0.4288,  ..., -1.5760, -1.6105, -1.6785],\n",
       "           [-0.3104, -0.3623, -0.3050,  ..., -1.4243, -1.3961, -1.5986]],\n",
       " \n",
       "          [[ 2.5290,  2.5052,  2.5216,  ...,  2.6400,  2.6400,  2.6400],\n",
       "           [ 2.5304,  2.5313,  2.5404,  ...,  2.6400,  2.6400,  2.6400],\n",
       "           [ 2.5240,  2.5405,  2.5747,  ...,  2.6400,  2.6400,  2.6400],\n",
       "           ...,\n",
       "           [-0.2115, -0.1494, -0.1262,  ..., -1.2602, -1.4753, -1.4175],\n",
       "           [-0.1158, -0.1298, -0.0881,  ..., -1.3337, -1.3334, -1.4495],\n",
       "           [ 0.0518, -0.0486,  0.0770,  ..., -1.1659, -1.1312, -1.3525]]]]),\n",
       " tensor([12, 14, 27, 35, 12, 30, 32, 24, 17,  7, 30,  0, 16, 16, 36, 15, 24, 22,\n",
       "         14, 27, 25, 10,  8,  8, 28,  2, 28, 13, 11, 30, 27, 25,  9, 34, 10, 14,\n",
       "         19, 26, 13, 16, 20, 32, 22, 27, 36, 15, 13, 14, 15, 18, 10,  8, 19, 28,\n",
       "          7, 31,  2,  9, 21,  1,  7, 28, 31, 24, 23,  4,  8,  7, 33, 28,  2, 17,\n",
       "          5, 18,  0, 10, 25, 10, 32, 28, 17, 20, 13, 16,  1,  9, 14, 22, 23, 33,\n",
       "         32,  5, 15, 14, 36, 22, 29, 27, 36, 24])]"
      ]
     },
     "execution_count": 15,
     "metadata": {},
     "output_type": "execute_result"
    }
   ],
   "source": [
    "iterador =  iter(test_loader)\n",
    "next(iterador)"
   ]
  },
  {
   "cell_type": "markdown",
   "id": "615b7d65-76be-4aff-bfd7-c22b8f45422a",
   "metadata": {},
   "source": [
    "Una vegada esta tot preparat, realitzam l'entrenament corresponent al model:"
   ]
  },
  {
   "cell_type": "code",
   "execution_count": 16,
   "id": "124d0020-64aa-4748-909c-73e5181fc791",
   "metadata": {},
   "outputs": [
    {
     "name": "stdout",
     "output_type": "stream",
     "text": [
      "Trainable Parameters:  54047269\n"
     ]
    },
    {
     "name": "stderr",
     "output_type": "stream",
     "text": [
      "  3%|███▎                                                                                                | 1/30 [00:59<28:48, 59.62s/it]"
     ]
    },
    {
     "name": "stdout",
     "output_type": "stream",
     "text": [
      "\n",
      "Test set: Average loss: 0.0368, Accuracy: 40/1470 (2.72%)\n",
      "\n"
     ]
    },
    {
     "name": "stderr",
     "output_type": "stream",
     "text": [
      "  7%|██████▋                                                                                             | 2/30 [01:56<27:09, 58.18s/it]"
     ]
    },
    {
     "name": "stdout",
     "output_type": "stream",
     "text": [
      "\n",
      "Test set: Average loss: 0.0366, Accuracy: 60/1470 (4.08%)\n",
      "\n"
     ]
    },
    {
     "name": "stderr",
     "output_type": "stream",
     "text": [
      " 10%|██████████                                                                                          | 3/30 [02:54<26:03, 57.90s/it]"
     ]
    },
    {
     "name": "stdout",
     "output_type": "stream",
     "text": [
      "\n",
      "Test set: Average loss: 0.0365, Accuracy: 90/1470 (6.12%)\n",
      "\n"
     ]
    },
    {
     "name": "stderr",
     "output_type": "stream",
     "text": [
      " 13%|█████████████▎                                                                                      | 4/30 [03:52<25:04, 57.86s/it]"
     ]
    },
    {
     "name": "stdout",
     "output_type": "stream",
     "text": [
      "\n",
      "Test set: Average loss: 0.0361, Accuracy: 182/1470 (12.38%)\n",
      "\n"
     ]
    },
    {
     "name": "stderr",
     "output_type": "stream",
     "text": [
      " 17%|████████████████▋                                                                                   | 5/30 [04:49<24:05, 57.82s/it]"
     ]
    },
    {
     "name": "stdout",
     "output_type": "stream",
     "text": [
      "\n",
      "Test set: Average loss: 0.0357, Accuracy: 222/1470 (15.10%)\n",
      "\n"
     ]
    },
    {
     "name": "stderr",
     "output_type": "stream",
     "text": [
      " 20%|████████████████████                                                                                | 6/30 [05:47<23:02, 57.62s/it]"
     ]
    },
    {
     "name": "stdout",
     "output_type": "stream",
     "text": [
      "\n",
      "Test set: Average loss: 0.0354, Accuracy: 263/1470 (17.89%)\n",
      "\n"
     ]
    },
    {
     "name": "stderr",
     "output_type": "stream",
     "text": [
      " 23%|███████████████████████▎                                                                            | 7/30 [06:43<21:57, 57.28s/it]"
     ]
    },
    {
     "name": "stdout",
     "output_type": "stream",
     "text": [
      "\n",
      "Test set: Average loss: 0.0351, Accuracy: 325/1470 (22.11%)\n",
      "\n"
     ]
    },
    {
     "name": "stderr",
     "output_type": "stream",
     "text": [
      " 27%|██████████████████████████▋                                                                         | 8/30 [07:40<20:57, 57.15s/it]"
     ]
    },
    {
     "name": "stdout",
     "output_type": "stream",
     "text": [
      "\n",
      "Test set: Average loss: 0.0351, Accuracy: 322/1470 (21.90%)\n",
      "\n"
     ]
    },
    {
     "name": "stderr",
     "output_type": "stream",
     "text": [
      " 30%|██████████████████████████████                                                                      | 9/30 [08:37<20:00, 57.18s/it]"
     ]
    },
    {
     "name": "stdout",
     "output_type": "stream",
     "text": [
      "\n",
      "Test set: Average loss: 0.0347, Accuracy: 372/1470 (25.31%)\n",
      "\n"
     ]
    },
    {
     "name": "stderr",
     "output_type": "stream",
     "text": [
      " 33%|█████████████████████████████████                                                                  | 10/30 [09:35<19:03, 57.18s/it]"
     ]
    },
    {
     "name": "stdout",
     "output_type": "stream",
     "text": [
      "\n",
      "Test set: Average loss: 0.0347, Accuracy: 372/1470 (25.31%)\n",
      "\n"
     ]
    },
    {
     "name": "stderr",
     "output_type": "stream",
     "text": [
      " 37%|████████████████████████████████████▎                                                              | 11/30 [10:32<18:07, 57.22s/it]"
     ]
    },
    {
     "name": "stdout",
     "output_type": "stream",
     "text": [
      "\n",
      "Test set: Average loss: 0.0347, Accuracy: 387/1470 (26.33%)\n",
      "\n"
     ]
    },
    {
     "name": "stderr",
     "output_type": "stream",
     "text": [
      " 40%|███████████████████████████████████████▌                                                           | 12/30 [11:29<17:10, 57.23s/it]"
     ]
    },
    {
     "name": "stdout",
     "output_type": "stream",
     "text": [
      "\n",
      "Test set: Average loss: 0.0346, Accuracy: 391/1470 (26.60%)\n",
      "\n"
     ]
    },
    {
     "name": "stderr",
     "output_type": "stream",
     "text": [
      " 43%|██████████████████████████████████████████▉                                                        | 13/30 [12:26<16:08, 56.99s/it]"
     ]
    },
    {
     "name": "stdout",
     "output_type": "stream",
     "text": [
      "\n",
      "Test set: Average loss: 0.0345, Accuracy: 407/1470 (27.69%)\n",
      "\n"
     ]
    },
    {
     "name": "stderr",
     "output_type": "stream",
     "text": [
      " 47%|██████████████████████████████████████████████▏                                                    | 14/30 [13:22<15:08, 56.77s/it]"
     ]
    },
    {
     "name": "stdout",
     "output_type": "stream",
     "text": [
      "\n",
      "Test set: Average loss: 0.0345, Accuracy: 415/1470 (28.23%)\n",
      "\n"
     ]
    },
    {
     "name": "stderr",
     "output_type": "stream",
     "text": [
      " 50%|█████████████████████████████████████████████████▌                                                 | 15/30 [14:19<14:12, 56.87s/it]"
     ]
    },
    {
     "name": "stdout",
     "output_type": "stream",
     "text": [
      "\n",
      "Test set: Average loss: 0.0343, Accuracy: 437/1470 (29.73%)\n",
      "\n"
     ]
    },
    {
     "name": "stderr",
     "output_type": "stream",
     "text": [
      " 53%|████████████████████████████████████████████████████▊                                              | 16/30 [15:16<13:18, 57.05s/it]"
     ]
    },
    {
     "name": "stdout",
     "output_type": "stream",
     "text": [
      "\n",
      "Test set: Average loss: 0.0343, Accuracy: 445/1470 (30.27%)\n",
      "\n"
     ]
    },
    {
     "name": "stderr",
     "output_type": "stream",
     "text": [
      " 57%|████████████████████████████████████████████████████████                                           | 17/30 [16:14<12:22, 57.11s/it]"
     ]
    },
    {
     "name": "stdout",
     "output_type": "stream",
     "text": [
      "\n",
      "Test set: Average loss: 0.0343, Accuracy: 436/1470 (29.66%)\n",
      "\n"
     ]
    },
    {
     "name": "stderr",
     "output_type": "stream",
     "text": [
      " 60%|███████████████████████████████████████████████████████████▍                                       | 18/30 [17:11<11:25, 57.14s/it]"
     ]
    },
    {
     "name": "stdout",
     "output_type": "stream",
     "text": [
      "\n",
      "Test set: Average loss: 0.0342, Accuracy: 451/1470 (30.68%)\n",
      "\n"
     ]
    },
    {
     "name": "stderr",
     "output_type": "stream",
     "text": [
      " 63%|██████████████████████████████████████████████████████████████▋                                    | 19/30 [18:08<10:29, 57.20s/it]"
     ]
    },
    {
     "name": "stdout",
     "output_type": "stream",
     "text": [
      "\n",
      "Test set: Average loss: 0.0342, Accuracy: 442/1470 (30.07%)\n",
      "\n"
     ]
    },
    {
     "name": "stderr",
     "output_type": "stream",
     "text": [
      " 67%|██████████████████████████████████████████████████████████████████                                 | 20/30 [19:06<09:32, 57.29s/it]"
     ]
    },
    {
     "name": "stdout",
     "output_type": "stream",
     "text": [
      "\n",
      "Test set: Average loss: 0.0341, Accuracy: 459/1470 (31.22%)\n",
      "\n"
     ]
    },
    {
     "name": "stderr",
     "output_type": "stream",
     "text": [
      " 70%|█████████████████████████████████████████████████████████████████████▎                             | 21/30 [20:02<08:33, 57.03s/it]"
     ]
    },
    {
     "name": "stdout",
     "output_type": "stream",
     "text": [
      "\n",
      "Test set: Average loss: 0.0342, Accuracy: 441/1470 (30.00%)\n",
      "\n"
     ]
    },
    {
     "name": "stderr",
     "output_type": "stream",
     "text": [
      " 73%|████████████████████████████████████████████████████████████████████████▌                          | 22/30 [20:58<07:34, 56.75s/it]"
     ]
    },
    {
     "name": "stdout",
     "output_type": "stream",
     "text": [
      "\n",
      "Test set: Average loss: 0.0341, Accuracy: 463/1470 (31.50%)\n",
      "\n"
     ]
    },
    {
     "name": "stderr",
     "output_type": "stream",
     "text": [
      " 77%|███████████████████████████████████████████████████████████████████████████▉                       | 23/30 [21:54<06:36, 56.61s/it]"
     ]
    },
    {
     "name": "stdout",
     "output_type": "stream",
     "text": [
      "\n",
      "Test set: Average loss: 0.0340, Accuracy: 474/1470 (32.24%)\n",
      "\n"
     ]
    },
    {
     "name": "stderr",
     "output_type": "stream",
     "text": [
      " 80%|███████████████████████████████████████████████████████████████████████████████▏                   | 24/30 [22:52<05:40, 56.79s/it]"
     ]
    },
    {
     "name": "stdout",
     "output_type": "stream",
     "text": [
      "\n",
      "Test set: Average loss: 0.0340, Accuracy: 472/1470 (32.11%)\n",
      "\n"
     ]
    },
    {
     "name": "stderr",
     "output_type": "stream",
     "text": [
      " 83%|██████████████████████████████████████████████████████████████████████████████████▌                | 25/30 [23:48<04:43, 56.68s/it]"
     ]
    },
    {
     "name": "stdout",
     "output_type": "stream",
     "text": [
      "\n",
      "Test set: Average loss: 0.0340, Accuracy: 472/1470 (32.11%)\n",
      "\n"
     ]
    },
    {
     "name": "stderr",
     "output_type": "stream",
     "text": [
      " 87%|█████████████████████████████████████████████████████████████████████████████████████▊             | 26/30 [24:45<03:46, 56.72s/it]"
     ]
    },
    {
     "name": "stdout",
     "output_type": "stream",
     "text": [
      "\n",
      "Test set: Average loss: 0.0340, Accuracy: 479/1470 (32.59%)\n",
      "\n"
     ]
    },
    {
     "name": "stderr",
     "output_type": "stream",
     "text": [
      " 90%|█████████████████████████████████████████████████████████████████████████████████████████          | 27/30 [25:42<02:50, 56.91s/it]"
     ]
    },
    {
     "name": "stdout",
     "output_type": "stream",
     "text": [
      "\n",
      "Test set: Average loss: 0.0339, Accuracy: 483/1470 (32.86%)\n",
      "\n"
     ]
    },
    {
     "name": "stderr",
     "output_type": "stream",
     "text": [
      " 93%|████████████████████████████████████████████████████████████████████████████████████████████▍      | 28/30 [26:40<01:54, 57.05s/it]"
     ]
    },
    {
     "name": "stdout",
     "output_type": "stream",
     "text": [
      "\n",
      "Test set: Average loss: 0.0340, Accuracy: 480/1470 (32.65%)\n",
      "\n"
     ]
    },
    {
     "name": "stderr",
     "output_type": "stream",
     "text": [
      " 97%|███████████████████████████████████████████████████████████████████████████████████████████████▋   | 29/30 [27:37<00:57, 57.21s/it]"
     ]
    },
    {
     "name": "stdout",
     "output_type": "stream",
     "text": [
      "\n",
      "Test set: Average loss: 0.0340, Accuracy: 472/1470 (32.11%)\n",
      "\n"
     ]
    },
    {
     "name": "stderr",
     "output_type": "stream",
     "text": [
      "100%|███████████████████████████████████████████████████████████████████████████████████████████████████| 30/30 [28:34<00:00, 57.16s/it]"
     ]
    },
    {
     "name": "stdout",
     "output_type": "stream",
     "text": [
      "\n",
      "Test set: Average loss: 0.0339, Accuracy: 488/1470 (33.20%)\n",
      "\n"
     ]
    },
    {
     "name": "stderr",
     "output_type": "stream",
     "text": [
      "\n"
     ]
    }
   ],
   "source": [
    "# Entrenament Multiclasse AlexNet\n",
    "use_cuda = False\n",
    "torch.manual_seed(33)\n",
    "\n",
    "if use_cuda:\n",
    "    device = torch.device(\"cuda\")\n",
    "else:\n",
    "    device = torch.device(\"cpu\")\n",
    "    \n",
    "lr = 1e-1\n",
    "\n",
    "model = MultiAlexNet().to(device)\n",
    "optimizer = optim.SGD(model.parameters(), lr=lr)\n",
    "\n",
    "trainer = ModelTrainer(train_loader,test_loader,optimizer,F.cross_entropy,30)\n",
    "\n",
    "best_model, train_loss, test_loss = trainer.train_test(model, device)"
   ]
  },
  {
   "cell_type": "markdown",
   "id": "a503d8df-01fb-4bf2-8f04-dea664fb92a1",
   "metadata": {},
   "source": [
    "Una vegada finalitzat l'entrenament, generam el fitxer de pesos del model:"
   ]
  },
  {
   "cell_type": "code",
   "execution_count": 18,
   "id": "35d1c72d-dcc5-45d0-aea5-7f8b38b84f16",
   "metadata": {},
   "outputs": [],
   "source": [
    "# Guardem els pesos del model\n",
    "path_to_save = 'weights/model_weights_Multi_Alex_Net.pth'\n",
    "torch.save(best_model.state_dict(), path_to_save)"
   ]
  },
  {
   "cell_type": "markdown",
   "id": "0e1f9932-05e8-4bb1-82e1-827ffedb0b7c",
   "metadata": {},
   "source": [
    "Finalment, mostrem la gràfica de pèrdua que ha tingut el model durant l'entrenament:"
   ]
  },
  {
   "cell_type": "code",
   "execution_count": 19,
   "id": "cef932e2-4397-442d-84a5-d6bf97a31fcc",
   "metadata": {},
   "outputs": [
    {
     "data": {
      "image/png": "[encoded data removed]",
      "text/plain": [
       "<Figure size 1000x500 with 1 Axes>"
      ]
     },
     "metadata": {},
     "output_type": "display_data"
    }
   ],
   "source": [
    "# Creant el gràfic de pèrdua\n",
    "plt.figure(figsize=(10, 5))\n",
    "plt.plot(train_loss, label='Pèrdua d\\'Entrenament')\n",
    "plt.plot(test_loss, label='Pèrdua de Prova')\n",
    "plt.title('Funció de Pèrdua Durant l\\'Entrenament i la Prova')\n",
    "plt.xlabel('Èpoques')\n",
    "plt.ylabel('Pèrdua')\n",
    "plt.legend()\n",
    "plt.show()"
   ]
  },
  {
   "cell_type": "markdown",
   "id": "43df54ff-6cfc-4a12-8919-43aeb7895b32",
   "metadata": {},
   "source": [
    "Una vegada entrenat el model i mostrada la funció de pèrdua, anem a comprovar que realment hem emmagatzemat els pesos del millor model que hem entrenat:"
   ]
  },
  {
   "cell_type": "code",
   "execution_count": 20,
   "id": "c44eb0ab-7258-46f2-9fd4-7c17111ed105",
   "metadata": {},
   "outputs": [
    {
     "name": "stdout",
     "output_type": "stream",
     "text": [
      "\n",
      "Test set: Average loss: 0.0339, Accuracy: 488/1470 (33.20%)\n",
      "\n"
     ]
    }
   ],
   "source": [
    "ruta_modelo = 'weights/model_weights_Multi_Alex_Net.pth'\n",
    "model = MultiAlexNet()\n",
    "model.load_state_dict(torch.load(ruta_modelo))\n",
    "model.eval()\n",
    "\n",
    "test_loss = 0\n",
    "correct = 0\n",
    "with torch.no_grad():\n",
    "    for data, target in test_loader:\n",
    "        data, target = data.to(device), target.to(device)\n",
    "        output = best_model(data)\n",
    "        output = torch.squeeze(output)\n",
    "        test_loss += F.cross_entropy(output, target, reduction='mean') \n",
    "        pred = output.argmax(dim=1, keepdim=True)  # get the index of the max probability\n",
    "        correct += pred.eq(target.view_as(pred)).sum().item()\n",
    "\n",
    "test_loss /= len(test_loader.dataset)\n",
    "\n",
    "accuracy = 100. * correct / len(test_loader.dataset)\n",
    "\n",
    "print('\\nTest set: Average loss: {:.4f}, Accuracy: {}/{} ({:.2f}%)\\n'.format(\n",
    "    test_loss, correct, len(test_loader.dataset), accuracy))"
   ]
  },
  {
   "cell_type": "code",
   "execution_count": null,
   "id": "51710b04-35fb-4572-9f02-905561bf191b",
   "metadata": {},
   "outputs": [],
   "source": []
  }
 ],
 "metadata": {
  "kernelspec": {
   "display_name": "Python 3 (ipykernel)",
   "language": "python",
   "name": "python3"
  },
  "language_info": {
   "codemirror_mode": {
    "name": "ipython",
    "version": 3
   },
   "file_extension": ".py",
   "mimetype": "text/x-python",
   "name": "python",
   "nbconvert_exporter": "python",
   "pygments_lexer": "ipython3",
   "version": "3.11.5"
  }
 },
 "nbformat": 4,
 "nbformat_minor": 5
}
